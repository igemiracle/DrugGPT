{
 "cells": [
  {
   "cell_type": "code",
   "execution_count": 1,
   "id": "b703c16b",
   "metadata": {},
   "outputs": [],
   "source": [
    "import pandas as pd\n",
    "import numpy as np\n",
    "from pathlib import Path\n",
    "import sys\n",
    "import logging\n",
    "from tqdm import tqdm\n",
    "import matplotlib.pyplot as plt\n",
    "import seaborn as sns\n",
    "import gc\n",
    "\n",
    "pd.set_option('display.max_columns', None)\n",
    "sns.set_theme()  \n",
    "sns.set_palette(\"husl\")\n",
    "plt.rcParams['figure.figsize'] = [12, 8]\n",
    "\n",
    "sys.path.append('../src')"
   ]
  },
  {
   "cell_type": "code",
   "execution_count": null,
   "id": "f9efb960-f1e1-4fde-bc42-80305c35ffa9",
   "metadata": {},
   "outputs": [],
   "source": [
    "from Embedding import ClinicalEmbeddingProcessor"
   ]
  },
  {
   "cell_type": "code",
   "execution_count": 2,
   "id": "fc8ca582",
   "metadata": {},
   "outputs": [
    {
     "name": "stderr",
     "output_type": "stream",
     "text": [
      "2024-11-16 17:15:38,654 - INFO - Loading emilyalsentzer/Bio_ClinicalBERT on cuda\n",
      "2024-11-16 17:15:43,930 - INFO - Creating train-validation split...\n"
     ]
    },
    {
     "data": {
      "application/vnd.jupyter.widget-view+json": {
       "model_id": "e73640793023472ab16147a50965d3af",
       "version_major": 2,
       "version_minor": 0
      },
      "text/plain": [
       "Loading cases:   0%|          | 0/45 [00:00<?, ?it/s]"
      ]
     },
     "metadata": {},
     "output_type": "display_data"
    },
    {
     "data": {
      "application/vnd.jupyter.widget-view+json": {
       "model_id": "0a27c021c3114a7e908847637083b41a",
       "version_major": 2,
       "version_minor": 0
      },
      "text/plain": [
       "Saving train chunks:   0%|          | 0/142 [00:00<?, ?it/s]"
      ]
     },
     "metadata": {},
     "output_type": "display_data"
    },
    {
     "name": "stderr",
     "output_type": "stream",
     "text": [
      "2024-11-16 17:15:57,469 - INFO - Split completed: {'total_cases': 141624, 'train_cases': 141293, 'val_cases': 331, 'train_patients': 7601, 'val_patients': 22}\n",
      "2024-11-16 17:15:57,615 - INFO - Creating embeddings for training set...\n",
      "2024-11-16 17:15:57,618 - INFO - Processing file 1/142\n"
     ]
    },
    {
     "data": {
      "application/vnd.jupyter.widget-view+json": {
       "model_id": "a3759e02b57448f3a37b39252b1569e6",
       "version_major": 2,
       "version_minor": 0
      },
      "text/plain": [
       "Creating embeddings:   0%|          | 0/32 [00:00<?, ?it/s]"
      ]
     },
     "metadata": {},
     "output_type": "display_data"
    },
    {
     "name": "stderr",
     "output_type": "stream",
     "text": [
      "2024-11-16 17:16:10,552 - INFO - Processing file 2/142\n"
     ]
    },
    {
     "data": {
      "application/vnd.jupyter.widget-view+json": {
       "model_id": "02c277fa3aad4d98b738d5bd6b4a6622",
       "version_major": 2,
       "version_minor": 0
      },
      "text/plain": [
       "Creating embeddings:   0%|          | 0/32 [00:00<?, ?it/s]"
      ]
     },
     "metadata": {},
     "output_type": "display_data"
    },
    {
     "name": "stderr",
     "output_type": "stream",
     "text": [
      "2024-11-16 17:16:23,395 - INFO - Processing file 3/142\n"
     ]
    },
    {
     "data": {
      "application/vnd.jupyter.widget-view+json": {
       "model_id": "bb18fff93b7a4e5a9860a88733f8977f",
       "version_major": 2,
       "version_minor": 0
      },
      "text/plain": [
       "Creating embeddings:   0%|          | 0/32 [00:00<?, ?it/s]"
      ]
     },
     "metadata": {},
     "output_type": "display_data"
    },
    {
     "name": "stderr",
     "output_type": "stream",
     "text": [
      "2024-11-16 17:16:36,137 - INFO - Processing file 4/142\n"
     ]
    },
    {
     "data": {
      "application/vnd.jupyter.widget-view+json": {
       "model_id": "968d63cb623a48ba90780041a46025f9",
       "version_major": 2,
       "version_minor": 0
      },
      "text/plain": [
       "Creating embeddings:   0%|          | 0/32 [00:00<?, ?it/s]"
      ]
     },
     "metadata": {},
     "output_type": "display_data"
    },
    {
     "name": "stderr",
     "output_type": "stream",
     "text": [
      "2024-11-16 17:16:48,839 - INFO - Processing file 5/142\n"
     ]
    },
    {
     "data": {
      "application/vnd.jupyter.widget-view+json": {
       "model_id": "da9909e6f2ae489382fb518290b37e3a",
       "version_major": 2,
       "version_minor": 0
      },
      "text/plain": [
       "Creating embeddings:   0%|          | 0/32 [00:00<?, ?it/s]"
      ]
     },
     "metadata": {},
     "output_type": "display_data"
    },
    {
     "name": "stderr",
     "output_type": "stream",
     "text": [
      "2024-11-16 17:17:01,582 - INFO - Processing file 6/142\n"
     ]
    },
    {
     "data": {
      "application/vnd.jupyter.widget-view+json": {
       "model_id": "741729bfbc68451097437c7cd452777b",
       "version_major": 2,
       "version_minor": 0
      },
      "text/plain": [
       "Creating embeddings:   0%|          | 0/32 [00:00<?, ?it/s]"
      ]
     },
     "metadata": {},
     "output_type": "display_data"
    },
    {
     "name": "stderr",
     "output_type": "stream",
     "text": [
      "2024-11-16 17:17:14,291 - INFO - Processing file 7/142\n"
     ]
    },
    {
     "data": {
      "application/vnd.jupyter.widget-view+json": {
       "model_id": "48396a013dbb4c5ea92502216d4ac75e",
       "version_major": 2,
       "version_minor": 0
      },
      "text/plain": [
       "Creating embeddings:   0%|          | 0/32 [00:00<?, ?it/s]"
      ]
     },
     "metadata": {},
     "output_type": "display_data"
    },
    {
     "name": "stderr",
     "output_type": "stream",
     "text": [
      "2024-11-16 17:17:26,978 - INFO - Processing file 8/142\n"
     ]
    },
    {
     "data": {
      "application/vnd.jupyter.widget-view+json": {
       "model_id": "a90a6305b5f240f496da71b847dc24f4",
       "version_major": 2,
       "version_minor": 0
      },
      "text/plain": [
       "Creating embeddings:   0%|          | 0/32 [00:00<?, ?it/s]"
      ]
     },
     "metadata": {},
     "output_type": "display_data"
    },
    {
     "name": "stderr",
     "output_type": "stream",
     "text": [
      "2024-11-16 17:17:39,720 - INFO - Processing file 9/142\n"
     ]
    },
    {
     "data": {
      "application/vnd.jupyter.widget-view+json": {
       "model_id": "ba6d20be1aa242759783496c5bcb2417",
       "version_major": 2,
       "version_minor": 0
      },
      "text/plain": [
       "Creating embeddings:   0%|          | 0/32 [00:00<?, ?it/s]"
      ]
     },
     "metadata": {},
     "output_type": "display_data"
    },
    {
     "name": "stderr",
     "output_type": "stream",
     "text": [
      "2024-11-16 17:17:52,516 - INFO - Processing file 10/142\n"
     ]
    },
    {
     "data": {
      "application/vnd.jupyter.widget-view+json": {
       "model_id": "b2711551c97b4a808e7ef55605f50bc0",
       "version_major": 2,
       "version_minor": 0
      },
      "text/plain": [
       "Creating embeddings:   0%|          | 0/32 [00:00<?, ?it/s]"
      ]
     },
     "metadata": {},
     "output_type": "display_data"
    },
    {
     "name": "stderr",
     "output_type": "stream",
     "text": [
      "2024-11-16 17:18:05,199 - INFO - Processing file 11/142\n"
     ]
    },
    {
     "data": {
      "application/vnd.jupyter.widget-view+json": {
       "model_id": "64c9928cfa3c4e24ae1924da9e88bf3b",
       "version_major": 2,
       "version_minor": 0
      },
      "text/plain": [
       "Creating embeddings:   0%|          | 0/32 [00:00<?, ?it/s]"
      ]
     },
     "metadata": {},
     "output_type": "display_data"
    },
    {
     "name": "stderr",
     "output_type": "stream",
     "text": [
      "2024-11-16 17:18:17,980 - INFO - Processing file 12/142\n"
     ]
    },
    {
     "data": {
      "application/vnd.jupyter.widget-view+json": {
       "model_id": "7ee075936f3b41aa85399bafb009a340",
       "version_major": 2,
       "version_minor": 0
      },
      "text/plain": [
       "Creating embeddings:   0%|          | 0/32 [00:00<?, ?it/s]"
      ]
     },
     "metadata": {},
     "output_type": "display_data"
    },
    {
     "name": "stderr",
     "output_type": "stream",
     "text": [
      "2024-11-16 17:18:30,799 - INFO - Processing file 13/142\n"
     ]
    },
    {
     "data": {
      "application/vnd.jupyter.widget-view+json": {
       "model_id": "5ac280f8536c4c8d8468064ac375dd05",
       "version_major": 2,
       "version_minor": 0
      },
      "text/plain": [
       "Creating embeddings:   0%|          | 0/32 [00:00<?, ?it/s]"
      ]
     },
     "metadata": {},
     "output_type": "display_data"
    },
    {
     "name": "stderr",
     "output_type": "stream",
     "text": [
      "2024-11-16 17:18:43,656 - INFO - Processing file 14/142\n"
     ]
    },
    {
     "data": {
      "application/vnd.jupyter.widget-view+json": {
       "model_id": "d65835c251dd40eb811339c2e79f1d2d",
       "version_major": 2,
       "version_minor": 0
      },
      "text/plain": [
       "Creating embeddings:   0%|          | 0/32 [00:00<?, ?it/s]"
      ]
     },
     "metadata": {},
     "output_type": "display_data"
    },
    {
     "name": "stderr",
     "output_type": "stream",
     "text": [
      "2024-11-16 17:18:56,457 - INFO - Processing file 15/142\n"
     ]
    },
    {
     "data": {
      "application/vnd.jupyter.widget-view+json": {
       "model_id": "b325738036ad4db28eb0415f6cfc85d4",
       "version_major": 2,
       "version_minor": 0
      },
      "text/plain": [
       "Creating embeddings:   0%|          | 0/32 [00:00<?, ?it/s]"
      ]
     },
     "metadata": {},
     "output_type": "display_data"
    },
    {
     "name": "stderr",
     "output_type": "stream",
     "text": [
      "2024-11-16 17:19:09,298 - INFO - Processing file 16/142\n"
     ]
    },
    {
     "data": {
      "application/vnd.jupyter.widget-view+json": {
       "model_id": "e2b660cf39e54d9caae68cd4012ed559",
       "version_major": 2,
       "version_minor": 0
      },
      "text/plain": [
       "Creating embeddings:   0%|          | 0/32 [00:00<?, ?it/s]"
      ]
     },
     "metadata": {},
     "output_type": "display_data"
    },
    {
     "name": "stderr",
     "output_type": "stream",
     "text": [
      "2024-11-16 17:19:22,077 - INFO - Processing file 17/142\n"
     ]
    },
    {
     "data": {
      "application/vnd.jupyter.widget-view+json": {
       "model_id": "8b6ccf9843dd4c3aa0d4f8004a5dd27f",
       "version_major": 2,
       "version_minor": 0
      },
      "text/plain": [
       "Creating embeddings:   0%|          | 0/32 [00:00<?, ?it/s]"
      ]
     },
     "metadata": {},
     "output_type": "display_data"
    },
    {
     "name": "stderr",
     "output_type": "stream",
     "text": [
      "2024-11-16 17:19:34,898 - INFO - Processing file 18/142\n"
     ]
    },
    {
     "data": {
      "application/vnd.jupyter.widget-view+json": {
       "model_id": "3ba643f987cd485f950b3aa5eb0ddcac",
       "version_major": 2,
       "version_minor": 0
      },
      "text/plain": [
       "Creating embeddings:   0%|          | 0/32 [00:00<?, ?it/s]"
      ]
     },
     "metadata": {},
     "output_type": "display_data"
    },
    {
     "name": "stderr",
     "output_type": "stream",
     "text": [
      "2024-11-16 17:19:47,811 - INFO - Processing file 19/142\n"
     ]
    },
    {
     "data": {
      "application/vnd.jupyter.widget-view+json": {
       "model_id": "39c1ff6262ff45d58cb0ade158db61f7",
       "version_major": 2,
       "version_minor": 0
      },
      "text/plain": [
       "Creating embeddings:   0%|          | 0/32 [00:00<?, ?it/s]"
      ]
     },
     "metadata": {},
     "output_type": "display_data"
    },
    {
     "name": "stderr",
     "output_type": "stream",
     "text": [
      "2024-11-16 17:20:00,653 - INFO - Processing file 20/142\n"
     ]
    },
    {
     "data": {
      "application/vnd.jupyter.widget-view+json": {
       "model_id": "7b57634d291f4573abd3e47c8c18bb37",
       "version_major": 2,
       "version_minor": 0
      },
      "text/plain": [
       "Creating embeddings:   0%|          | 0/32 [00:00<?, ?it/s]"
      ]
     },
     "metadata": {},
     "output_type": "display_data"
    },
    {
     "name": "stderr",
     "output_type": "stream",
     "text": [
      "2024-11-16 17:20:13,434 - INFO - Processing file 21/142\n"
     ]
    },
    {
     "data": {
      "application/vnd.jupyter.widget-view+json": {
       "model_id": "9707ac556d3242aeb7e2e1244977d48b",
       "version_major": 2,
       "version_minor": 0
      },
      "text/plain": [
       "Creating embeddings:   0%|          | 0/32 [00:00<?, ?it/s]"
      ]
     },
     "metadata": {},
     "output_type": "display_data"
    },
    {
     "name": "stderr",
     "output_type": "stream",
     "text": [
      "2024-11-16 17:20:26,193 - INFO - Processing file 22/142\n"
     ]
    },
    {
     "data": {
      "application/vnd.jupyter.widget-view+json": {
       "model_id": "440cc352f68643eba2e9932974058c26",
       "version_major": 2,
       "version_minor": 0
      },
      "text/plain": [
       "Creating embeddings:   0%|          | 0/32 [00:00<?, ?it/s]"
      ]
     },
     "metadata": {},
     "output_type": "display_data"
    },
    {
     "name": "stderr",
     "output_type": "stream",
     "text": [
      "2024-11-16 17:20:38,902 - INFO - Processing file 23/142\n"
     ]
    },
    {
     "data": {
      "application/vnd.jupyter.widget-view+json": {
       "model_id": "ca45c2078e484e258ae075ab410f8697",
       "version_major": 2,
       "version_minor": 0
      },
      "text/plain": [
       "Creating embeddings:   0%|          | 0/32 [00:00<?, ?it/s]"
      ]
     },
     "metadata": {},
     "output_type": "display_data"
    },
    {
     "name": "stderr",
     "output_type": "stream",
     "text": [
      "2024-11-16 17:20:51,751 - INFO - Processing file 24/142\n"
     ]
    },
    {
     "data": {
      "application/vnd.jupyter.widget-view+json": {
       "model_id": "c19ffea52ad547f9b12f5b1623b8675f",
       "version_major": 2,
       "version_minor": 0
      },
      "text/plain": [
       "Creating embeddings:   0%|          | 0/32 [00:00<?, ?it/s]"
      ]
     },
     "metadata": {},
     "output_type": "display_data"
    },
    {
     "name": "stderr",
     "output_type": "stream",
     "text": [
      "2024-11-16 17:21:04,584 - INFO - Processing file 25/142\n"
     ]
    },
    {
     "data": {
      "application/vnd.jupyter.widget-view+json": {
       "model_id": "02ff3217412a44af8325ba0ae82798c6",
       "version_major": 2,
       "version_minor": 0
      },
      "text/plain": [
       "Creating embeddings:   0%|          | 0/32 [00:00<?, ?it/s]"
      ]
     },
     "metadata": {},
     "output_type": "display_data"
    },
    {
     "name": "stderr",
     "output_type": "stream",
     "text": [
      "2024-11-16 17:21:17,452 - INFO - Processing file 26/142\n"
     ]
    },
    {
     "data": {
      "application/vnd.jupyter.widget-view+json": {
       "model_id": "09ef971980734a87b6b46cecad21a4ca",
       "version_major": 2,
       "version_minor": 0
      },
      "text/plain": [
       "Creating embeddings:   0%|          | 0/32 [00:00<?, ?it/s]"
      ]
     },
     "metadata": {},
     "output_type": "display_data"
    },
    {
     "name": "stderr",
     "output_type": "stream",
     "text": [
      "2024-11-16 17:21:30,244 - INFO - Processing file 27/142\n"
     ]
    },
    {
     "data": {
      "application/vnd.jupyter.widget-view+json": {
       "model_id": "d7ba99b0f1f94fc9880c7cdec984c65f",
       "version_major": 2,
       "version_minor": 0
      },
      "text/plain": [
       "Creating embeddings:   0%|          | 0/32 [00:00<?, ?it/s]"
      ]
     },
     "metadata": {},
     "output_type": "display_data"
    },
    {
     "name": "stderr",
     "output_type": "stream",
     "text": [
      "2024-11-16 17:21:42,990 - INFO - Processing file 28/142\n"
     ]
    },
    {
     "data": {
      "application/vnd.jupyter.widget-view+json": {
       "model_id": "b5ba1637c54f459bbfbd325b1e49d657",
       "version_major": 2,
       "version_minor": 0
      },
      "text/plain": [
       "Creating embeddings:   0%|          | 0/32 [00:00<?, ?it/s]"
      ]
     },
     "metadata": {},
     "output_type": "display_data"
    },
    {
     "name": "stderr",
     "output_type": "stream",
     "text": [
      "2024-11-16 17:21:55,881 - INFO - Processing file 29/142\n"
     ]
    },
    {
     "data": {
      "application/vnd.jupyter.widget-view+json": {
       "model_id": "f2b19310d41940f391ba19a8b14cef20",
       "version_major": 2,
       "version_minor": 0
      },
      "text/plain": [
       "Creating embeddings:   0%|          | 0/32 [00:00<?, ?it/s]"
      ]
     },
     "metadata": {},
     "output_type": "display_data"
    },
    {
     "name": "stderr",
     "output_type": "stream",
     "text": [
      "2024-11-16 17:22:08,759 - INFO - Processing file 30/142\n"
     ]
    },
    {
     "data": {
      "application/vnd.jupyter.widget-view+json": {
       "model_id": "83f81be9f04f435ba9c5ae126040df81",
       "version_major": 2,
       "version_minor": 0
      },
      "text/plain": [
       "Creating embeddings:   0%|          | 0/32 [00:00<?, ?it/s]"
      ]
     },
     "metadata": {},
     "output_type": "display_data"
    },
    {
     "name": "stderr",
     "output_type": "stream",
     "text": [
      "2024-11-16 17:22:21,623 - INFO - Processing file 31/142\n"
     ]
    },
    {
     "data": {
      "application/vnd.jupyter.widget-view+json": {
       "model_id": "5888998b0c8544f083e32f08d0bdc3a4",
       "version_major": 2,
       "version_minor": 0
      },
      "text/plain": [
       "Creating embeddings:   0%|          | 0/32 [00:00<?, ?it/s]"
      ]
     },
     "metadata": {},
     "output_type": "display_data"
    },
    {
     "name": "stderr",
     "output_type": "stream",
     "text": [
      "2024-11-16 17:22:34,371 - INFO - Processing file 32/142\n"
     ]
    },
    {
     "data": {
      "application/vnd.jupyter.widget-view+json": {
       "model_id": "a1a097bddb0b49b5aeb11f6bdda60a17",
       "version_major": 2,
       "version_minor": 0
      },
      "text/plain": [
       "Creating embeddings:   0%|          | 0/32 [00:00<?, ?it/s]"
      ]
     },
     "metadata": {},
     "output_type": "display_data"
    },
    {
     "name": "stderr",
     "output_type": "stream",
     "text": [
      "2024-11-16 17:22:47,016 - INFO - Processing file 33/142\n"
     ]
    },
    {
     "data": {
      "application/vnd.jupyter.widget-view+json": {
       "model_id": "0999489b4222467b9541f7c1f1c23972",
       "version_major": 2,
       "version_minor": 0
      },
      "text/plain": [
       "Creating embeddings:   0%|          | 0/32 [00:00<?, ?it/s]"
      ]
     },
     "metadata": {},
     "output_type": "display_data"
    },
    {
     "name": "stderr",
     "output_type": "stream",
     "text": [
      "2024-11-16 17:22:59,896 - INFO - Processing file 34/142\n"
     ]
    },
    {
     "data": {
      "application/vnd.jupyter.widget-view+json": {
       "model_id": "c8d6c8e875754b8fb3a2ce632fa8d825",
       "version_major": 2,
       "version_minor": 0
      },
      "text/plain": [
       "Creating embeddings:   0%|          | 0/32 [00:00<?, ?it/s]"
      ]
     },
     "metadata": {},
     "output_type": "display_data"
    },
    {
     "name": "stderr",
     "output_type": "stream",
     "text": [
      "2024-11-16 17:23:12,620 - INFO - Processing file 35/142\n"
     ]
    },
    {
     "data": {
      "application/vnd.jupyter.widget-view+json": {
       "model_id": "8f51a19ee5f9466b9d9f1e2a90216dcf",
       "version_major": 2,
       "version_minor": 0
      },
      "text/plain": [
       "Creating embeddings:   0%|          | 0/32 [00:00<?, ?it/s]"
      ]
     },
     "metadata": {},
     "output_type": "display_data"
    },
    {
     "name": "stderr",
     "output_type": "stream",
     "text": [
      "2024-11-16 17:23:25,262 - INFO - Processing file 36/142\n"
     ]
    },
    {
     "data": {
      "application/vnd.jupyter.widget-view+json": {
       "model_id": "ed6d6dbf128d4775be7f89c3b39ade31",
       "version_major": 2,
       "version_minor": 0
      },
      "text/plain": [
       "Creating embeddings:   0%|          | 0/32 [00:00<?, ?it/s]"
      ]
     },
     "metadata": {},
     "output_type": "display_data"
    },
    {
     "name": "stderr",
     "output_type": "stream",
     "text": [
      "2024-11-16 17:23:38,193 - INFO - Processing file 37/142\n"
     ]
    },
    {
     "data": {
      "application/vnd.jupyter.widget-view+json": {
       "model_id": "febb5b4f6e61490aaf40047524656c66",
       "version_major": 2,
       "version_minor": 0
      },
      "text/plain": [
       "Creating embeddings:   0%|          | 0/32 [00:00<?, ?it/s]"
      ]
     },
     "metadata": {},
     "output_type": "display_data"
    },
    {
     "name": "stderr",
     "output_type": "stream",
     "text": [
      "2024-11-16 17:23:50,879 - INFO - Processing file 38/142\n"
     ]
    },
    {
     "data": {
      "application/vnd.jupyter.widget-view+json": {
       "model_id": "81c2c5593ddc4c8fb331d4d406fb6e85",
       "version_major": 2,
       "version_minor": 0
      },
      "text/plain": [
       "Creating embeddings:   0%|          | 0/32 [00:00<?, ?it/s]"
      ]
     },
     "metadata": {},
     "output_type": "display_data"
    },
    {
     "name": "stderr",
     "output_type": "stream",
     "text": [
      "2024-11-16 17:24:03,621 - INFO - Processing file 39/142\n"
     ]
    },
    {
     "data": {
      "application/vnd.jupyter.widget-view+json": {
       "model_id": "e8d07d3014c94555bd6e172df28c6a88",
       "version_major": 2,
       "version_minor": 0
      },
      "text/plain": [
       "Creating embeddings:   0%|          | 0/32 [00:00<?, ?it/s]"
      ]
     },
     "metadata": {},
     "output_type": "display_data"
    },
    {
     "name": "stderr",
     "output_type": "stream",
     "text": [
      "2024-11-16 17:24:16,391 - INFO - Processing file 40/142\n"
     ]
    },
    {
     "data": {
      "application/vnd.jupyter.widget-view+json": {
       "model_id": "4ef6c59bafaa4342a12d54d26c706918",
       "version_major": 2,
       "version_minor": 0
      },
      "text/plain": [
       "Creating embeddings:   0%|          | 0/32 [00:00<?, ?it/s]"
      ]
     },
     "metadata": {},
     "output_type": "display_data"
    },
    {
     "name": "stderr",
     "output_type": "stream",
     "text": [
      "2024-11-16 17:24:29,147 - INFO - Processing file 41/142\n"
     ]
    },
    {
     "data": {
      "application/vnd.jupyter.widget-view+json": {
       "model_id": "67c14ff3d9284801b05058a14d962db9",
       "version_major": 2,
       "version_minor": 0
      },
      "text/plain": [
       "Creating embeddings:   0%|          | 0/32 [00:00<?, ?it/s]"
      ]
     },
     "metadata": {},
     "output_type": "display_data"
    },
    {
     "name": "stderr",
     "output_type": "stream",
     "text": [
      "2024-11-16 17:24:41,902 - INFO - Processing file 42/142\n"
     ]
    },
    {
     "data": {
      "application/vnd.jupyter.widget-view+json": {
       "model_id": "010b159f801b419f8e1fad8fcf761019",
       "version_major": 2,
       "version_minor": 0
      },
      "text/plain": [
       "Creating embeddings:   0%|          | 0/32 [00:00<?, ?it/s]"
      ]
     },
     "metadata": {},
     "output_type": "display_data"
    },
    {
     "name": "stderr",
     "output_type": "stream",
     "text": [
      "2024-11-16 17:24:54,628 - INFO - Processing file 43/142\n"
     ]
    },
    {
     "data": {
      "application/vnd.jupyter.widget-view+json": {
       "model_id": "88d8abf7291546c7ab5f82fc95303f67",
       "version_major": 2,
       "version_minor": 0
      },
      "text/plain": [
       "Creating embeddings:   0%|          | 0/32 [00:00<?, ?it/s]"
      ]
     },
     "metadata": {},
     "output_type": "display_data"
    },
    {
     "name": "stderr",
     "output_type": "stream",
     "text": [
      "2024-11-16 17:25:07,398 - INFO - Processing file 44/142\n"
     ]
    },
    {
     "data": {
      "application/vnd.jupyter.widget-view+json": {
       "model_id": "e7a6a26bce8c4321b63d4ba17a41c80a",
       "version_major": 2,
       "version_minor": 0
      },
      "text/plain": [
       "Creating embeddings:   0%|          | 0/32 [00:00<?, ?it/s]"
      ]
     },
     "metadata": {},
     "output_type": "display_data"
    },
    {
     "name": "stderr",
     "output_type": "stream",
     "text": [
      "2024-11-16 17:25:20,176 - INFO - Processing file 45/142\n"
     ]
    },
    {
     "data": {
      "application/vnd.jupyter.widget-view+json": {
       "model_id": "abbc8ec987b945d99450d9d86907f170",
       "version_major": 2,
       "version_minor": 0
      },
      "text/plain": [
       "Creating embeddings:   0%|          | 0/32 [00:00<?, ?it/s]"
      ]
     },
     "metadata": {},
     "output_type": "display_data"
    },
    {
     "name": "stderr",
     "output_type": "stream",
     "text": [
      "2024-11-16 17:25:33,034 - INFO - Processing file 46/142\n"
     ]
    },
    {
     "data": {
      "application/vnd.jupyter.widget-view+json": {
       "model_id": "61bbd4c8509345ca84ff1a2131b27c4a",
       "version_major": 2,
       "version_minor": 0
      },
      "text/plain": [
       "Creating embeddings:   0%|          | 0/32 [00:00<?, ?it/s]"
      ]
     },
     "metadata": {},
     "output_type": "display_data"
    },
    {
     "name": "stderr",
     "output_type": "stream",
     "text": [
      "2024-11-16 17:25:45,817 - INFO - Processing file 47/142\n"
     ]
    },
    {
     "data": {
      "application/vnd.jupyter.widget-view+json": {
       "model_id": "a423603494f64da786bdbc0434e485f3",
       "version_major": 2,
       "version_minor": 0
      },
      "text/plain": [
       "Creating embeddings:   0%|          | 0/32 [00:00<?, ?it/s]"
      ]
     },
     "metadata": {},
     "output_type": "display_data"
    },
    {
     "name": "stderr",
     "output_type": "stream",
     "text": [
      "2024-11-16 17:25:58,725 - INFO - Processing file 48/142\n"
     ]
    },
    {
     "data": {
      "application/vnd.jupyter.widget-view+json": {
       "model_id": "d31711a91994422aa01851ef2c1ae4e8",
       "version_major": 2,
       "version_minor": 0
      },
      "text/plain": [
       "Creating embeddings:   0%|          | 0/32 [00:00<?, ?it/s]"
      ]
     },
     "metadata": {},
     "output_type": "display_data"
    },
    {
     "name": "stderr",
     "output_type": "stream",
     "text": [
      "2024-11-16 17:26:11,453 - INFO - Processing file 49/142\n"
     ]
    },
    {
     "data": {
      "application/vnd.jupyter.widget-view+json": {
       "model_id": "5aad93fa57b441ed8d6a8b5e99d046ae",
       "version_major": 2,
       "version_minor": 0
      },
      "text/plain": [
       "Creating embeddings:   0%|          | 0/10 [00:00<?, ?it/s]"
      ]
     },
     "metadata": {},
     "output_type": "display_data"
    },
    {
     "name": "stderr",
     "output_type": "stream",
     "text": [
      "2024-11-16 17:26:15,325 - INFO - Processing file 50/142\n"
     ]
    },
    {
     "data": {
      "application/vnd.jupyter.widget-view+json": {
       "model_id": "e4793e8db1d54fef95bfc1c1a8c37b36",
       "version_major": 2,
       "version_minor": 0
      },
      "text/plain": [
       "Creating embeddings:   0%|          | 0/32 [00:00<?, ?it/s]"
      ]
     },
     "metadata": {},
     "output_type": "display_data"
    },
    {
     "name": "stderr",
     "output_type": "stream",
     "text": [
      "2024-11-16 17:26:28,179 - INFO - Processing file 51/142\n"
     ]
    },
    {
     "data": {
      "application/vnd.jupyter.widget-view+json": {
       "model_id": "343d9399638443ea8e73f583ce41d226",
       "version_major": 2,
       "version_minor": 0
      },
      "text/plain": [
       "Creating embeddings:   0%|          | 0/32 [00:00<?, ?it/s]"
      ]
     },
     "metadata": {},
     "output_type": "display_data"
    },
    {
     "name": "stderr",
     "output_type": "stream",
     "text": [
      "2024-11-16 17:26:40,974 - INFO - Processing file 52/142\n"
     ]
    },
    {
     "data": {
      "application/vnd.jupyter.widget-view+json": {
       "model_id": "352d6483b5c14d4396bd52918b4361d7",
       "version_major": 2,
       "version_minor": 0
      },
      "text/plain": [
       "Creating embeddings:   0%|          | 0/32 [00:00<?, ?it/s]"
      ]
     },
     "metadata": {},
     "output_type": "display_data"
    },
    {
     "name": "stderr",
     "output_type": "stream",
     "text": [
      "2024-11-16 17:26:53,783 - INFO - Processing file 53/142\n"
     ]
    },
    {
     "data": {
      "application/vnd.jupyter.widget-view+json": {
       "model_id": "a55b076cdf5742f69df0cff4ad1f0473",
       "version_major": 2,
       "version_minor": 0
      },
      "text/plain": [
       "Creating embeddings:   0%|          | 0/32 [00:00<?, ?it/s]"
      ]
     },
     "metadata": {},
     "output_type": "display_data"
    },
    {
     "name": "stderr",
     "output_type": "stream",
     "text": [
      "2024-11-16 17:27:06,558 - INFO - Processing file 54/142\n"
     ]
    },
    {
     "data": {
      "application/vnd.jupyter.widget-view+json": {
       "model_id": "9ebdba023d7643e69dbf9bd20bf60f62",
       "version_major": 2,
       "version_minor": 0
      },
      "text/plain": [
       "Creating embeddings:   0%|          | 0/32 [00:00<?, ?it/s]"
      ]
     },
     "metadata": {},
     "output_type": "display_data"
    },
    {
     "name": "stderr",
     "output_type": "stream",
     "text": [
      "2024-11-16 17:27:19,299 - INFO - Processing file 55/142\n"
     ]
    },
    {
     "data": {
      "application/vnd.jupyter.widget-view+json": {
       "model_id": "2e02738f633f4dfcbc5f9b030e7493a9",
       "version_major": 2,
       "version_minor": 0
      },
      "text/plain": [
       "Creating embeddings:   0%|          | 0/32 [00:00<?, ?it/s]"
      ]
     },
     "metadata": {},
     "output_type": "display_data"
    },
    {
     "name": "stderr",
     "output_type": "stream",
     "text": [
      "2024-11-16 17:27:32,063 - INFO - Processing file 56/142\n"
     ]
    },
    {
     "data": {
      "application/vnd.jupyter.widget-view+json": {
       "model_id": "ce8425a54cca4a6aa425891f14e7e871",
       "version_major": 2,
       "version_minor": 0
      },
      "text/plain": [
       "Creating embeddings:   0%|          | 0/32 [00:00<?, ?it/s]"
      ]
     },
     "metadata": {},
     "output_type": "display_data"
    },
    {
     "name": "stderr",
     "output_type": "stream",
     "text": [
      "2024-11-16 17:27:44,753 - INFO - Processing file 57/142\n"
     ]
    },
    {
     "data": {
      "application/vnd.jupyter.widget-view+json": {
       "model_id": "7035685969c74180bf6005d6d9383627",
       "version_major": 2,
       "version_minor": 0
      },
      "text/plain": [
       "Creating embeddings:   0%|          | 0/32 [00:00<?, ?it/s]"
      ]
     },
     "metadata": {},
     "output_type": "display_data"
    },
    {
     "name": "stderr",
     "output_type": "stream",
     "text": [
      "2024-11-16 17:27:57,468 - INFO - Processing file 58/142\n"
     ]
    },
    {
     "data": {
      "application/vnd.jupyter.widget-view+json": {
       "model_id": "b9fcae81c3ee4514b7d8b1d5c7261f56",
       "version_major": 2,
       "version_minor": 0
      },
      "text/plain": [
       "Creating embeddings:   0%|          | 0/32 [00:00<?, ?it/s]"
      ]
     },
     "metadata": {},
     "output_type": "display_data"
    },
    {
     "name": "stderr",
     "output_type": "stream",
     "text": [
      "2024-11-16 17:28:10,249 - INFO - Processing file 59/142\n"
     ]
    },
    {
     "data": {
      "application/vnd.jupyter.widget-view+json": {
       "model_id": "c75bce8add56421fac52c7a5a2fb6035",
       "version_major": 2,
       "version_minor": 0
      },
      "text/plain": [
       "Creating embeddings:   0%|          | 0/32 [00:00<?, ?it/s]"
      ]
     },
     "metadata": {},
     "output_type": "display_data"
    },
    {
     "name": "stderr",
     "output_type": "stream",
     "text": [
      "2024-11-16 17:28:23,039 - INFO - Processing file 60/142\n"
     ]
    },
    {
     "data": {
      "application/vnd.jupyter.widget-view+json": {
       "model_id": "78850384ea14463f8a24c827356d259b",
       "version_major": 2,
       "version_minor": 0
      },
      "text/plain": [
       "Creating embeddings:   0%|          | 0/32 [00:00<?, ?it/s]"
      ]
     },
     "metadata": {},
     "output_type": "display_data"
    },
    {
     "name": "stderr",
     "output_type": "stream",
     "text": [
      "2024-11-16 17:28:35,841 - INFO - Processing file 61/142\n"
     ]
    },
    {
     "data": {
      "application/vnd.jupyter.widget-view+json": {
       "model_id": "192557c50495473f92448c5630695a76",
       "version_major": 2,
       "version_minor": 0
      },
      "text/plain": [
       "Creating embeddings:   0%|          | 0/32 [00:00<?, ?it/s]"
      ]
     },
     "metadata": {},
     "output_type": "display_data"
    },
    {
     "name": "stderr",
     "output_type": "stream",
     "text": [
      "2024-11-16 17:28:48,592 - INFO - Processing file 62/142\n"
     ]
    },
    {
     "data": {
      "application/vnd.jupyter.widget-view+json": {
       "model_id": "41a09529e4a44390a8ad5cd9541578c0",
       "version_major": 2,
       "version_minor": 0
      },
      "text/plain": [
       "Creating embeddings:   0%|          | 0/32 [00:00<?, ?it/s]"
      ]
     },
     "metadata": {},
     "output_type": "display_data"
    },
    {
     "name": "stderr",
     "output_type": "stream",
     "text": [
      "2024-11-16 17:29:01,399 - INFO - Processing file 63/142\n"
     ]
    },
    {
     "data": {
      "application/vnd.jupyter.widget-view+json": {
       "model_id": "80993d93a168427a9046c9029a390b6a",
       "version_major": 2,
       "version_minor": 0
      },
      "text/plain": [
       "Creating embeddings:   0%|          | 0/32 [00:00<?, ?it/s]"
      ]
     },
     "metadata": {},
     "output_type": "display_data"
    },
    {
     "name": "stderr",
     "output_type": "stream",
     "text": [
      "2024-11-16 17:29:14,284 - INFO - Processing file 64/142\n"
     ]
    },
    {
     "data": {
      "application/vnd.jupyter.widget-view+json": {
       "model_id": "24861553a2d84e248ad5cfce39b93862",
       "version_major": 2,
       "version_minor": 0
      },
      "text/plain": [
       "Creating embeddings:   0%|          | 0/32 [00:00<?, ?it/s]"
      ]
     },
     "metadata": {},
     "output_type": "display_data"
    },
    {
     "name": "stderr",
     "output_type": "stream",
     "text": [
      "2024-11-16 17:29:27,065 - INFO - Processing file 65/142\n"
     ]
    },
    {
     "data": {
      "application/vnd.jupyter.widget-view+json": {
       "model_id": "cd9c656664ab4df5ba9eb462aac7483d",
       "version_major": 2,
       "version_minor": 0
      },
      "text/plain": [
       "Creating embeddings:   0%|          | 0/32 [00:00<?, ?it/s]"
      ]
     },
     "metadata": {},
     "output_type": "display_data"
    },
    {
     "name": "stderr",
     "output_type": "stream",
     "text": [
      "2024-11-16 17:29:39,791 - INFO - Processing file 66/142\n"
     ]
    },
    {
     "data": {
      "application/vnd.jupyter.widget-view+json": {
       "model_id": "3dd788ba2dd641a1b81389a670268e8b",
       "version_major": 2,
       "version_minor": 0
      },
      "text/plain": [
       "Creating embeddings:   0%|          | 0/32 [00:00<?, ?it/s]"
      ]
     },
     "metadata": {},
     "output_type": "display_data"
    },
    {
     "name": "stderr",
     "output_type": "stream",
     "text": [
      "2024-11-16 17:29:52,482 - INFO - Processing file 67/142\n"
     ]
    },
    {
     "data": {
      "application/vnd.jupyter.widget-view+json": {
       "model_id": "67e3f578be6b438ebc7adae8dbe00dff",
       "version_major": 2,
       "version_minor": 0
      },
      "text/plain": [
       "Creating embeddings:   0%|          | 0/32 [00:00<?, ?it/s]"
      ]
     },
     "metadata": {},
     "output_type": "display_data"
    },
    {
     "name": "stderr",
     "output_type": "stream",
     "text": [
      "2024-11-16 17:30:05,296 - INFO - Processing file 68/142\n"
     ]
    },
    {
     "data": {
      "application/vnd.jupyter.widget-view+json": {
       "model_id": "c302102a1fa04d5abce10e7ed8914f83",
       "version_major": 2,
       "version_minor": 0
      },
      "text/plain": [
       "Creating embeddings:   0%|          | 0/32 [00:00<?, ?it/s]"
      ]
     },
     "metadata": {},
     "output_type": "display_data"
    },
    {
     "name": "stderr",
     "output_type": "stream",
     "text": [
      "2024-11-16 17:30:18,071 - INFO - Processing file 69/142\n"
     ]
    },
    {
     "data": {
      "application/vnd.jupyter.widget-view+json": {
       "model_id": "c295e8dba40342fdaf12b100b5e128ee",
       "version_major": 2,
       "version_minor": 0
      },
      "text/plain": [
       "Creating embeddings:   0%|          | 0/32 [00:00<?, ?it/s]"
      ]
     },
     "metadata": {},
     "output_type": "display_data"
    },
    {
     "name": "stderr",
     "output_type": "stream",
     "text": [
      "2024-11-16 17:30:30,797 - INFO - Processing file 70/142\n"
     ]
    },
    {
     "data": {
      "application/vnd.jupyter.widget-view+json": {
       "model_id": "12253302659c44c7932a762094b5711c",
       "version_major": 2,
       "version_minor": 0
      },
      "text/plain": [
       "Creating embeddings:   0%|          | 0/32 [00:00<?, ?it/s]"
      ]
     },
     "metadata": {},
     "output_type": "display_data"
    },
    {
     "name": "stderr",
     "output_type": "stream",
     "text": [
      "2024-11-16 17:30:43,655 - INFO - Processing file 71/142\n"
     ]
    },
    {
     "data": {
      "application/vnd.jupyter.widget-view+json": {
       "model_id": "9e0a6e9b7cbc4ca5b529ed92955c86d8",
       "version_major": 2,
       "version_minor": 0
      },
      "text/plain": [
       "Creating embeddings:   0%|          | 0/32 [00:00<?, ?it/s]"
      ]
     },
     "metadata": {},
     "output_type": "display_data"
    },
    {
     "name": "stderr",
     "output_type": "stream",
     "text": [
      "2024-11-16 17:30:56,387 - INFO - Processing file 72/142\n"
     ]
    },
    {
     "data": {
      "application/vnd.jupyter.widget-view+json": {
       "model_id": "356001f40daa4ad2b0b91edb2e669249",
       "version_major": 2,
       "version_minor": 0
      },
      "text/plain": [
       "Creating embeddings:   0%|          | 0/32 [00:00<?, ?it/s]"
      ]
     },
     "metadata": {},
     "output_type": "display_data"
    },
    {
     "name": "stderr",
     "output_type": "stream",
     "text": [
      "2024-11-16 17:31:09,120 - INFO - Processing file 73/142\n"
     ]
    },
    {
     "data": {
      "application/vnd.jupyter.widget-view+json": {
       "model_id": "b8802142955c4fd8b159b428fc2f9e40",
       "version_major": 2,
       "version_minor": 0
      },
      "text/plain": [
       "Creating embeddings:   0%|          | 0/32 [00:00<?, ?it/s]"
      ]
     },
     "metadata": {},
     "output_type": "display_data"
    },
    {
     "name": "stderr",
     "output_type": "stream",
     "text": [
      "2024-11-16 17:31:21,866 - INFO - Processing file 74/142\n"
     ]
    },
    {
     "data": {
      "application/vnd.jupyter.widget-view+json": {
       "model_id": "8e8b4ad8134d43d79339cde10fc411e9",
       "version_major": 2,
       "version_minor": 0
      },
      "text/plain": [
       "Creating embeddings:   0%|          | 0/32 [00:00<?, ?it/s]"
      ]
     },
     "metadata": {},
     "output_type": "display_data"
    },
    {
     "name": "stderr",
     "output_type": "stream",
     "text": [
      "2024-11-16 17:31:34,665 - INFO - Processing file 75/142\n"
     ]
    },
    {
     "data": {
      "application/vnd.jupyter.widget-view+json": {
       "model_id": "41fca2e6e31f4cc08e5ec73500487705",
       "version_major": 2,
       "version_minor": 0
      },
      "text/plain": [
       "Creating embeddings:   0%|          | 0/32 [00:00<?, ?it/s]"
      ]
     },
     "metadata": {},
     "output_type": "display_data"
    },
    {
     "name": "stderr",
     "output_type": "stream",
     "text": [
      "2024-11-16 17:31:47,440 - INFO - Processing file 76/142\n"
     ]
    },
    {
     "data": {
      "application/vnd.jupyter.widget-view+json": {
       "model_id": "020f49d32c9248bfa83739eb073e8eb3",
       "version_major": 2,
       "version_minor": 0
      },
      "text/plain": [
       "Creating embeddings:   0%|          | 0/32 [00:00<?, ?it/s]"
      ]
     },
     "metadata": {},
     "output_type": "display_data"
    },
    {
     "name": "stderr",
     "output_type": "stream",
     "text": [
      "2024-11-16 17:32:00,168 - INFO - Processing file 77/142\n"
     ]
    },
    {
     "data": {
      "application/vnd.jupyter.widget-view+json": {
       "model_id": "2ef2f22caf8943389174470c39117874",
       "version_major": 2,
       "version_minor": 0
      },
      "text/plain": [
       "Creating embeddings:   0%|          | 0/32 [00:00<?, ?it/s]"
      ]
     },
     "metadata": {},
     "output_type": "display_data"
    },
    {
     "name": "stderr",
     "output_type": "stream",
     "text": [
      "2024-11-16 17:32:12,920 - INFO - Processing file 78/142\n"
     ]
    },
    {
     "data": {
      "application/vnd.jupyter.widget-view+json": {
       "model_id": "318d11e00f6b4869a99d60a1750675e1",
       "version_major": 2,
       "version_minor": 0
      },
      "text/plain": [
       "Creating embeddings:   0%|          | 0/32 [00:00<?, ?it/s]"
      ]
     },
     "metadata": {},
     "output_type": "display_data"
    },
    {
     "name": "stderr",
     "output_type": "stream",
     "text": [
      "2024-11-16 17:32:25,563 - INFO - Processing file 79/142\n"
     ]
    },
    {
     "data": {
      "application/vnd.jupyter.widget-view+json": {
       "model_id": "2437e42a61da4ab7b67f25f9b5995482",
       "version_major": 2,
       "version_minor": 0
      },
      "text/plain": [
       "Creating embeddings:   0%|          | 0/32 [00:00<?, ?it/s]"
      ]
     },
     "metadata": {},
     "output_type": "display_data"
    },
    {
     "name": "stderr",
     "output_type": "stream",
     "text": [
      "2024-11-16 17:32:38,293 - INFO - Processing file 80/142\n"
     ]
    },
    {
     "data": {
      "application/vnd.jupyter.widget-view+json": {
       "model_id": "2ca060911f7c4d44843e4f01f46a1075",
       "version_major": 2,
       "version_minor": 0
      },
      "text/plain": [
       "Creating embeddings:   0%|          | 0/32 [00:00<?, ?it/s]"
      ]
     },
     "metadata": {},
     "output_type": "display_data"
    },
    {
     "name": "stderr",
     "output_type": "stream",
     "text": [
      "2024-11-16 17:32:51,062 - INFO - Processing file 81/142\n"
     ]
    },
    {
     "data": {
      "application/vnd.jupyter.widget-view+json": {
       "model_id": "2a015d72474440eba0ddabc806e8ae29",
       "version_major": 2,
       "version_minor": 0
      },
      "text/plain": [
       "Creating embeddings:   0%|          | 0/32 [00:00<?, ?it/s]"
      ]
     },
     "metadata": {},
     "output_type": "display_data"
    },
    {
     "name": "stderr",
     "output_type": "stream",
     "text": [
      "2024-11-16 17:33:03,814 - INFO - Processing file 82/142\n"
     ]
    },
    {
     "data": {
      "application/vnd.jupyter.widget-view+json": {
       "model_id": "50e03191b8a04fa8bc8b8954ff4a98cb",
       "version_major": 2,
       "version_minor": 0
      },
      "text/plain": [
       "Creating embeddings:   0%|          | 0/32 [00:00<?, ?it/s]"
      ]
     },
     "metadata": {},
     "output_type": "display_data"
    },
    {
     "name": "stderr",
     "output_type": "stream",
     "text": [
      "2024-11-16 17:33:16,627 - INFO - Processing file 83/142\n"
     ]
    },
    {
     "data": {
      "application/vnd.jupyter.widget-view+json": {
       "model_id": "ad9a372b48e34b5796994323dcccd5d7",
       "version_major": 2,
       "version_minor": 0
      },
      "text/plain": [
       "Creating embeddings:   0%|          | 0/32 [00:00<?, ?it/s]"
      ]
     },
     "metadata": {},
     "output_type": "display_data"
    },
    {
     "name": "stderr",
     "output_type": "stream",
     "text": [
      "2024-11-16 17:33:29,396 - INFO - Processing file 84/142\n"
     ]
    },
    {
     "data": {
      "application/vnd.jupyter.widget-view+json": {
       "model_id": "6db824473f0749dab44b46e8bd61cc4b",
       "version_major": 2,
       "version_minor": 0
      },
      "text/plain": [
       "Creating embeddings:   0%|          | 0/32 [00:00<?, ?it/s]"
      ]
     },
     "metadata": {},
     "output_type": "display_data"
    },
    {
     "name": "stderr",
     "output_type": "stream",
     "text": [
      "2024-11-16 17:33:42,255 - INFO - Processing file 85/142\n"
     ]
    },
    {
     "data": {
      "application/vnd.jupyter.widget-view+json": {
       "model_id": "fad642e453e6454784bf40b9be645f0c",
       "version_major": 2,
       "version_minor": 0
      },
      "text/plain": [
       "Creating embeddings:   0%|          | 0/32 [00:00<?, ?it/s]"
      ]
     },
     "metadata": {},
     "output_type": "display_data"
    },
    {
     "name": "stderr",
     "output_type": "stream",
     "text": [
      "2024-11-16 17:33:55,067 - INFO - Processing file 86/142\n"
     ]
    },
    {
     "data": {
      "application/vnd.jupyter.widget-view+json": {
       "model_id": "ca4aebbd74dc434caf9f7b68e4cffafa",
       "version_major": 2,
       "version_minor": 0
      },
      "text/plain": [
       "Creating embeddings:   0%|          | 0/32 [00:00<?, ?it/s]"
      ]
     },
     "metadata": {},
     "output_type": "display_data"
    },
    {
     "name": "stderr",
     "output_type": "stream",
     "text": [
      "2024-11-16 17:34:07,879 - INFO - Processing file 87/142\n"
     ]
    },
    {
     "data": {
      "application/vnd.jupyter.widget-view+json": {
       "model_id": "755ed3925423445bb6f2df11752e9f4f",
       "version_major": 2,
       "version_minor": 0
      },
      "text/plain": [
       "Creating embeddings:   0%|          | 0/32 [00:00<?, ?it/s]"
      ]
     },
     "metadata": {},
     "output_type": "display_data"
    },
    {
     "name": "stderr",
     "output_type": "stream",
     "text": [
      "2024-11-16 17:34:20,623 - INFO - Processing file 88/142\n"
     ]
    },
    {
     "data": {
      "application/vnd.jupyter.widget-view+json": {
       "model_id": "5dd7fce136cc483e84bd3f70bdf79d34",
       "version_major": 2,
       "version_minor": 0
      },
      "text/plain": [
       "Creating embeddings:   0%|          | 0/32 [00:00<?, ?it/s]"
      ]
     },
     "metadata": {},
     "output_type": "display_data"
    },
    {
     "name": "stderr",
     "output_type": "stream",
     "text": [
      "2024-11-16 17:34:33,461 - INFO - Processing file 89/142\n"
     ]
    },
    {
     "data": {
      "application/vnd.jupyter.widget-view+json": {
       "model_id": "077bca3a89d54b1096475e50f143a582",
       "version_major": 2,
       "version_minor": 0
      },
      "text/plain": [
       "Creating embeddings:   0%|          | 0/32 [00:00<?, ?it/s]"
      ]
     },
     "metadata": {},
     "output_type": "display_data"
    },
    {
     "name": "stderr",
     "output_type": "stream",
     "text": [
      "2024-11-16 17:34:46,172 - INFO - Processing file 90/142\n"
     ]
    },
    {
     "data": {
      "application/vnd.jupyter.widget-view+json": {
       "model_id": "5c4d5c1dc0dc4504b197477eb51f2f0d",
       "version_major": 2,
       "version_minor": 0
      },
      "text/plain": [
       "Creating embeddings:   0%|          | 0/32 [00:00<?, ?it/s]"
      ]
     },
     "metadata": {},
     "output_type": "display_data"
    },
    {
     "name": "stderr",
     "output_type": "stream",
     "text": [
      "2024-11-16 17:34:59,593 - INFO - Processing file 91/142\n"
     ]
    },
    {
     "data": {
      "application/vnd.jupyter.widget-view+json": {
       "model_id": "96c9d74d49924cc99d6006006710041a",
       "version_major": 2,
       "version_minor": 0
      },
      "text/plain": [
       "Creating embeddings:   0%|          | 0/32 [00:00<?, ?it/s]"
      ]
     },
     "metadata": {},
     "output_type": "display_data"
    },
    {
     "name": "stderr",
     "output_type": "stream",
     "text": [
      "2024-11-16 17:35:12,397 - INFO - Processing file 92/142\n"
     ]
    },
    {
     "data": {
      "application/vnd.jupyter.widget-view+json": {
       "model_id": "35650afd648a42b8a6114ee2fa6685cc",
       "version_major": 2,
       "version_minor": 0
      },
      "text/plain": [
       "Creating embeddings:   0%|          | 0/32 [00:00<?, ?it/s]"
      ]
     },
     "metadata": {},
     "output_type": "display_data"
    },
    {
     "name": "stderr",
     "output_type": "stream",
     "text": [
      "2024-11-16 17:35:25,145 - INFO - Processing file 93/142\n"
     ]
    },
    {
     "data": {
      "application/vnd.jupyter.widget-view+json": {
       "model_id": "8f4489d8999f4b39bfccb4ba08cb30ce",
       "version_major": 2,
       "version_minor": 0
      },
      "text/plain": [
       "Creating embeddings:   0%|          | 0/32 [00:00<?, ?it/s]"
      ]
     },
     "metadata": {},
     "output_type": "display_data"
    },
    {
     "name": "stderr",
     "output_type": "stream",
     "text": [
      "2024-11-16 17:35:37,829 - INFO - Processing file 94/142\n"
     ]
    },
    {
     "data": {
      "application/vnd.jupyter.widget-view+json": {
       "model_id": "442790dd66a14680b881e6345077a38a",
       "version_major": 2,
       "version_minor": 0
      },
      "text/plain": [
       "Creating embeddings:   0%|          | 0/32 [00:00<?, ?it/s]"
      ]
     },
     "metadata": {},
     "output_type": "display_data"
    },
    {
     "name": "stderr",
     "output_type": "stream",
     "text": [
      "2024-11-16 17:35:50,549 - INFO - Processing file 95/142\n"
     ]
    },
    {
     "data": {
      "application/vnd.jupyter.widget-view+json": {
       "model_id": "bd41f9e52e9d48349505dc505116c6fa",
       "version_major": 2,
       "version_minor": 0
      },
      "text/plain": [
       "Creating embeddings:   0%|          | 0/32 [00:00<?, ?it/s]"
      ]
     },
     "metadata": {},
     "output_type": "display_data"
    },
    {
     "name": "stderr",
     "output_type": "stream",
     "text": [
      "2024-11-16 17:36:03,233 - INFO - Processing file 96/142\n"
     ]
    },
    {
     "data": {
      "application/vnd.jupyter.widget-view+json": {
       "model_id": "1f87bb0477954b2d98c351abf068ff57",
       "version_major": 2,
       "version_minor": 0
      },
      "text/plain": [
       "Creating embeddings:   0%|          | 0/32 [00:00<?, ?it/s]"
      ]
     },
     "metadata": {},
     "output_type": "display_data"
    },
    {
     "name": "stderr",
     "output_type": "stream",
     "text": [
      "2024-11-16 17:36:16,036 - INFO - Processing file 97/142\n"
     ]
    },
    {
     "data": {
      "application/vnd.jupyter.widget-view+json": {
       "model_id": "a483ff0ec4cb4f24883eb651e36174be",
       "version_major": 2,
       "version_minor": 0
      },
      "text/plain": [
       "Creating embeddings:   0%|          | 0/32 [00:00<?, ?it/s]"
      ]
     },
     "metadata": {},
     "output_type": "display_data"
    },
    {
     "name": "stderr",
     "output_type": "stream",
     "text": [
      "2024-11-16 17:36:28,860 - INFO - Processing file 98/142\n"
     ]
    },
    {
     "data": {
      "application/vnd.jupyter.widget-view+json": {
       "model_id": "c33f3692794743a4b6211c25048a67c8",
       "version_major": 2,
       "version_minor": 0
      },
      "text/plain": [
       "Creating embeddings:   0%|          | 0/32 [00:00<?, ?it/s]"
      ]
     },
     "metadata": {},
     "output_type": "display_data"
    },
    {
     "name": "stderr",
     "output_type": "stream",
     "text": [
      "2024-11-16 17:36:41,872 - INFO - Processing file 99/142\n"
     ]
    },
    {
     "data": {
      "application/vnd.jupyter.widget-view+json": {
       "model_id": "a219d5c9286c4d74afa9aba897602e87",
       "version_major": 2,
       "version_minor": 0
      },
      "text/plain": [
       "Creating embeddings:   0%|          | 0/32 [00:00<?, ?it/s]"
      ]
     },
     "metadata": {},
     "output_type": "display_data"
    },
    {
     "name": "stderr",
     "output_type": "stream",
     "text": [
      "2024-11-16 17:36:54,874 - INFO - Processing file 100/142\n"
     ]
    },
    {
     "data": {
      "application/vnd.jupyter.widget-view+json": {
       "model_id": "40d7a87cf7004f2cadcaf775c00b425d",
       "version_major": 2,
       "version_minor": 0
      },
      "text/plain": [
       "Creating embeddings:   0%|          | 0/32 [00:00<?, ?it/s]"
      ]
     },
     "metadata": {},
     "output_type": "display_data"
    },
    {
     "name": "stderr",
     "output_type": "stream",
     "text": [
      "2024-11-16 17:37:07,898 - INFO - Processing file 101/142\n"
     ]
    },
    {
     "data": {
      "application/vnd.jupyter.widget-view+json": {
       "model_id": "4d2a80986df740b79bb36620aaf54b91",
       "version_major": 2,
       "version_minor": 0
      },
      "text/plain": [
       "Creating embeddings:   0%|          | 0/32 [00:00<?, ?it/s]"
      ]
     },
     "metadata": {},
     "output_type": "display_data"
    },
    {
     "name": "stderr",
     "output_type": "stream",
     "text": [
      "2024-11-16 17:37:20,657 - INFO - Processing file 102/142\n"
     ]
    },
    {
     "data": {
      "application/vnd.jupyter.widget-view+json": {
       "model_id": "17c4b09f849a4d4f8b5358d5f51d87d0",
       "version_major": 2,
       "version_minor": 0
      },
      "text/plain": [
       "Creating embeddings:   0%|          | 0/32 [00:00<?, ?it/s]"
      ]
     },
     "metadata": {},
     "output_type": "display_data"
    },
    {
     "name": "stderr",
     "output_type": "stream",
     "text": [
      "2024-11-16 17:37:33,510 - INFO - Processing file 103/142\n"
     ]
    },
    {
     "data": {
      "application/vnd.jupyter.widget-view+json": {
       "model_id": "cf13f59b05ae4fb084adb988ece845b6",
       "version_major": 2,
       "version_minor": 0
      },
      "text/plain": [
       "Creating embeddings:   0%|          | 0/32 [00:00<?, ?it/s]"
      ]
     },
     "metadata": {},
     "output_type": "display_data"
    },
    {
     "name": "stderr",
     "output_type": "stream",
     "text": [
      "2024-11-16 17:37:46,422 - INFO - Processing file 104/142\n"
     ]
    },
    {
     "data": {
      "application/vnd.jupyter.widget-view+json": {
       "model_id": "e9196328521c4a89938ad2d6bbfd9a1e",
       "version_major": 2,
       "version_minor": 0
      },
      "text/plain": [
       "Creating embeddings:   0%|          | 0/32 [00:00<?, ?it/s]"
      ]
     },
     "metadata": {},
     "output_type": "display_data"
    },
    {
     "name": "stderr",
     "output_type": "stream",
     "text": [
      "2024-11-16 17:37:59,383 - INFO - Processing file 105/142\n"
     ]
    },
    {
     "data": {
      "application/vnd.jupyter.widget-view+json": {
       "model_id": "15f6cadb5206410ea42219bd57923fae",
       "version_major": 2,
       "version_minor": 0
      },
      "text/plain": [
       "Creating embeddings:   0%|          | 0/32 [00:00<?, ?it/s]"
      ]
     },
     "metadata": {},
     "output_type": "display_data"
    },
    {
     "name": "stderr",
     "output_type": "stream",
     "text": [
      "2024-11-16 17:38:12,171 - INFO - Processing file 106/142\n"
     ]
    },
    {
     "data": {
      "application/vnd.jupyter.widget-view+json": {
       "model_id": "ae5fa524c82e4daeb18527e74a809c05",
       "version_major": 2,
       "version_minor": 0
      },
      "text/plain": [
       "Creating embeddings:   0%|          | 0/32 [00:00<?, ?it/s]"
      ]
     },
     "metadata": {},
     "output_type": "display_data"
    },
    {
     "name": "stderr",
     "output_type": "stream",
     "text": [
      "2024-11-16 17:38:24,953 - INFO - Processing file 107/142\n"
     ]
    },
    {
     "data": {
      "application/vnd.jupyter.widget-view+json": {
       "model_id": "59047227fb03488b8bdd050b031a2b32",
       "version_major": 2,
       "version_minor": 0
      },
      "text/plain": [
       "Creating embeddings:   0%|          | 0/32 [00:00<?, ?it/s]"
      ]
     },
     "metadata": {},
     "output_type": "display_data"
    },
    {
     "name": "stderr",
     "output_type": "stream",
     "text": [
      "2024-11-16 17:38:37,732 - INFO - Processing file 108/142\n"
     ]
    },
    {
     "data": {
      "application/vnd.jupyter.widget-view+json": {
       "model_id": "9bf453e1e69d41e2a7891c94efdc1b14",
       "version_major": 2,
       "version_minor": 0
      },
      "text/plain": [
       "Creating embeddings:   0%|          | 0/32 [00:00<?, ?it/s]"
      ]
     },
     "metadata": {},
     "output_type": "display_data"
    },
    {
     "name": "stderr",
     "output_type": "stream",
     "text": [
      "2024-11-16 17:38:50,502 - INFO - Processing file 109/142\n"
     ]
    },
    {
     "data": {
      "application/vnd.jupyter.widget-view+json": {
       "model_id": "c5c9986148094fe593a3b16096b04c8d",
       "version_major": 2,
       "version_minor": 0
      },
      "text/plain": [
       "Creating embeddings:   0%|          | 0/32 [00:00<?, ?it/s]"
      ]
     },
     "metadata": {},
     "output_type": "display_data"
    },
    {
     "name": "stderr",
     "output_type": "stream",
     "text": [
      "2024-11-16 17:39:03,307 - INFO - Processing file 110/142\n"
     ]
    },
    {
     "data": {
      "application/vnd.jupyter.widget-view+json": {
       "model_id": "24cefcd46d74401e9d53c6d7fd971b95",
       "version_major": 2,
       "version_minor": 0
      },
      "text/plain": [
       "Creating embeddings:   0%|          | 0/32 [00:00<?, ?it/s]"
      ]
     },
     "metadata": {},
     "output_type": "display_data"
    },
    {
     "name": "stderr",
     "output_type": "stream",
     "text": [
      "2024-11-16 17:39:16,131 - INFO - Processing file 111/142\n"
     ]
    },
    {
     "data": {
      "application/vnd.jupyter.widget-view+json": {
       "model_id": "b4d08e28b5bd4e18bdc3931eb1356115",
       "version_major": 2,
       "version_minor": 0
      },
      "text/plain": [
       "Creating embeddings:   0%|          | 0/32 [00:00<?, ?it/s]"
      ]
     },
     "metadata": {},
     "output_type": "display_data"
    },
    {
     "name": "stderr",
     "output_type": "stream",
     "text": [
      "2024-11-16 17:39:28,832 - INFO - Processing file 112/142\n"
     ]
    },
    {
     "data": {
      "application/vnd.jupyter.widget-view+json": {
       "model_id": "9344c3c164984984a3c3a595bcdfba3c",
       "version_major": 2,
       "version_minor": 0
      },
      "text/plain": [
       "Creating embeddings:   0%|          | 0/32 [00:00<?, ?it/s]"
      ]
     },
     "metadata": {},
     "output_type": "display_data"
    },
    {
     "name": "stderr",
     "output_type": "stream",
     "text": [
      "2024-11-16 17:39:41,524 - INFO - Processing file 113/142\n"
     ]
    },
    {
     "data": {
      "application/vnd.jupyter.widget-view+json": {
       "model_id": "bed22117e6544bea9518fd043b0b470e",
       "version_major": 2,
       "version_minor": 0
      },
      "text/plain": [
       "Creating embeddings:   0%|          | 0/32 [00:00<?, ?it/s]"
      ]
     },
     "metadata": {},
     "output_type": "display_data"
    },
    {
     "name": "stderr",
     "output_type": "stream",
     "text": [
      "2024-11-16 17:39:54,323 - INFO - Processing file 114/142\n"
     ]
    },
    {
     "data": {
      "application/vnd.jupyter.widget-view+json": {
       "model_id": "aa6140707a384666ab9d42ed1ada5476",
       "version_major": 2,
       "version_minor": 0
      },
      "text/plain": [
       "Creating embeddings:   0%|          | 0/32 [00:00<?, ?it/s]"
      ]
     },
     "metadata": {},
     "output_type": "display_data"
    },
    {
     "name": "stderr",
     "output_type": "stream",
     "text": [
      "2024-11-16 17:40:07,089 - INFO - Processing file 115/142\n"
     ]
    },
    {
     "data": {
      "application/vnd.jupyter.widget-view+json": {
       "model_id": "d532b43340534ee2b8b9477345e42190",
       "version_major": 2,
       "version_minor": 0
      },
      "text/plain": [
       "Creating embeddings:   0%|          | 0/32 [00:00<?, ?it/s]"
      ]
     },
     "metadata": {},
     "output_type": "display_data"
    },
    {
     "name": "stderr",
     "output_type": "stream",
     "text": [
      "2024-11-16 17:40:19,921 - INFO - Processing file 116/142\n"
     ]
    },
    {
     "data": {
      "application/vnd.jupyter.widget-view+json": {
       "model_id": "711123e4c9934dbd9e0a4f00b6366407",
       "version_major": 2,
       "version_minor": 0
      },
      "text/plain": [
       "Creating embeddings:   0%|          | 0/32 [00:00<?, ?it/s]"
      ]
     },
     "metadata": {},
     "output_type": "display_data"
    },
    {
     "name": "stderr",
     "output_type": "stream",
     "text": [
      "2024-11-16 17:40:32,750 - INFO - Processing file 117/142\n"
     ]
    },
    {
     "data": {
      "application/vnd.jupyter.widget-view+json": {
       "model_id": "a5c436fe3cae4e0cad4b1894ee75b3a4",
       "version_major": 2,
       "version_minor": 0
      },
      "text/plain": [
       "Creating embeddings:   0%|          | 0/32 [00:00<?, ?it/s]"
      ]
     },
     "metadata": {},
     "output_type": "display_data"
    },
    {
     "name": "stderr",
     "output_type": "stream",
     "text": [
      "2024-11-16 17:40:45,541 - INFO - Processing file 118/142\n"
     ]
    },
    {
     "data": {
      "application/vnd.jupyter.widget-view+json": {
       "model_id": "6710ef3921cc44788352cc795dfadea3",
       "version_major": 2,
       "version_minor": 0
      },
      "text/plain": [
       "Creating embeddings:   0%|          | 0/32 [00:00<?, ?it/s]"
      ]
     },
     "metadata": {},
     "output_type": "display_data"
    },
    {
     "name": "stderr",
     "output_type": "stream",
     "text": [
      "2024-11-16 17:40:58,391 - INFO - Processing file 119/142\n"
     ]
    },
    {
     "data": {
      "application/vnd.jupyter.widget-view+json": {
       "model_id": "52dddcc160e049c1bbf9909cb70cbe55",
       "version_major": 2,
       "version_minor": 0
      },
      "text/plain": [
       "Creating embeddings:   0%|          | 0/32 [00:00<?, ?it/s]"
      ]
     },
     "metadata": {},
     "output_type": "display_data"
    },
    {
     "name": "stderr",
     "output_type": "stream",
     "text": [
      "2024-11-16 17:41:11,375 - INFO - Processing file 120/142\n"
     ]
    },
    {
     "data": {
      "application/vnd.jupyter.widget-view+json": {
       "model_id": "1122843d180d4706972c7db8f7af7cf2",
       "version_major": 2,
       "version_minor": 0
      },
      "text/plain": [
       "Creating embeddings:   0%|          | 0/32 [00:00<?, ?it/s]"
      ]
     },
     "metadata": {},
     "output_type": "display_data"
    },
    {
     "name": "stderr",
     "output_type": "stream",
     "text": [
      "2024-11-16 17:41:24,129 - INFO - Processing file 121/142\n"
     ]
    },
    {
     "data": {
      "application/vnd.jupyter.widget-view+json": {
       "model_id": "008815d8410c49a49e0031d331237291",
       "version_major": 2,
       "version_minor": 0
      },
      "text/plain": [
       "Creating embeddings:   0%|          | 0/32 [00:00<?, ?it/s]"
      ]
     },
     "metadata": {},
     "output_type": "display_data"
    },
    {
     "name": "stderr",
     "output_type": "stream",
     "text": [
      "2024-11-16 17:41:36,984 - INFO - Processing file 122/142\n"
     ]
    },
    {
     "data": {
      "application/vnd.jupyter.widget-view+json": {
       "model_id": "f98e74395c4f4298a52733c396d60c81",
       "version_major": 2,
       "version_minor": 0
      },
      "text/plain": [
       "Creating embeddings:   0%|          | 0/32 [00:00<?, ?it/s]"
      ]
     },
     "metadata": {},
     "output_type": "display_data"
    },
    {
     "name": "stderr",
     "output_type": "stream",
     "text": [
      "2024-11-16 17:41:49,826 - INFO - Processing file 123/142\n"
     ]
    },
    {
     "data": {
      "application/vnd.jupyter.widget-view+json": {
       "model_id": "a1012ca0942b48cdb9a88f0474778010",
       "version_major": 2,
       "version_minor": 0
      },
      "text/plain": [
       "Creating embeddings:   0%|          | 0/32 [00:00<?, ?it/s]"
      ]
     },
     "metadata": {},
     "output_type": "display_data"
    },
    {
     "name": "stderr",
     "output_type": "stream",
     "text": [
      "2024-11-16 17:42:02,643 - INFO - Processing file 124/142\n"
     ]
    },
    {
     "data": {
      "application/vnd.jupyter.widget-view+json": {
       "model_id": "5f3ff67c8b69460585d3b9057b2cc587",
       "version_major": 2,
       "version_minor": 0
      },
      "text/plain": [
       "Creating embeddings:   0%|          | 0/32 [00:00<?, ?it/s]"
      ]
     },
     "metadata": {},
     "output_type": "display_data"
    },
    {
     "name": "stderr",
     "output_type": "stream",
     "text": [
      "2024-11-16 17:42:15,525 - INFO - Processing file 125/142\n"
     ]
    },
    {
     "data": {
      "application/vnd.jupyter.widget-view+json": {
       "model_id": "c38233ba20b2431d84400eab02845efd",
       "version_major": 2,
       "version_minor": 0
      },
      "text/plain": [
       "Creating embeddings:   0%|          | 0/32 [00:00<?, ?it/s]"
      ]
     },
     "metadata": {},
     "output_type": "display_data"
    },
    {
     "name": "stderr",
     "output_type": "stream",
     "text": [
      "2024-11-16 17:42:28,439 - INFO - Processing file 126/142\n"
     ]
    },
    {
     "data": {
      "application/vnd.jupyter.widget-view+json": {
       "model_id": "5b095f03dfab4634a80d39825b67e5e7",
       "version_major": 2,
       "version_minor": 0
      },
      "text/plain": [
       "Creating embeddings:   0%|          | 0/32 [00:00<?, ?it/s]"
      ]
     },
     "metadata": {},
     "output_type": "display_data"
    },
    {
     "name": "stderr",
     "output_type": "stream",
     "text": [
      "2024-11-16 17:42:41,315 - INFO - Processing file 127/142\n"
     ]
    },
    {
     "data": {
      "application/vnd.jupyter.widget-view+json": {
       "model_id": "355efd046dc74eba9602fa1768b85f07",
       "version_major": 2,
       "version_minor": 0
      },
      "text/plain": [
       "Creating embeddings:   0%|          | 0/32 [00:00<?, ?it/s]"
      ]
     },
     "metadata": {},
     "output_type": "display_data"
    },
    {
     "name": "stderr",
     "output_type": "stream",
     "text": [
      "2024-11-16 17:42:54,221 - INFO - Processing file 128/142\n"
     ]
    },
    {
     "data": {
      "application/vnd.jupyter.widget-view+json": {
       "model_id": "782fc0de1ff04a4c9fc35ef066144c47",
       "version_major": 2,
       "version_minor": 0
      },
      "text/plain": [
       "Creating embeddings:   0%|          | 0/32 [00:00<?, ?it/s]"
      ]
     },
     "metadata": {},
     "output_type": "display_data"
    },
    {
     "name": "stderr",
     "output_type": "stream",
     "text": [
      "2024-11-16 17:43:07,006 - INFO - Processing file 129/142\n"
     ]
    },
    {
     "data": {
      "application/vnd.jupyter.widget-view+json": {
       "model_id": "0e70920975fd4e0190ff6b007cb83a6e",
       "version_major": 2,
       "version_minor": 0
      },
      "text/plain": [
       "Creating embeddings:   0%|          | 0/32 [00:00<?, ?it/s]"
      ]
     },
     "metadata": {},
     "output_type": "display_data"
    },
    {
     "name": "stderr",
     "output_type": "stream",
     "text": [
      "2024-11-16 17:43:19,805 - INFO - Processing file 130/142\n"
     ]
    },
    {
     "data": {
      "application/vnd.jupyter.widget-view+json": {
       "model_id": "92efe9454f8b4c479e1f401493c0b9fb",
       "version_major": 2,
       "version_minor": 0
      },
      "text/plain": [
       "Creating embeddings:   0%|          | 0/32 [00:00<?, ?it/s]"
      ]
     },
     "metadata": {},
     "output_type": "display_data"
    },
    {
     "name": "stderr",
     "output_type": "stream",
     "text": [
      "2024-11-16 17:43:32,574 - INFO - Processing file 131/142\n"
     ]
    },
    {
     "data": {
      "application/vnd.jupyter.widget-view+json": {
       "model_id": "b90e4227c0404f11b233728069e4af43",
       "version_major": 2,
       "version_minor": 0
      },
      "text/plain": [
       "Creating embeddings:   0%|          | 0/32 [00:00<?, ?it/s]"
      ]
     },
     "metadata": {},
     "output_type": "display_data"
    },
    {
     "name": "stderr",
     "output_type": "stream",
     "text": [
      "2024-11-16 17:43:45,394 - INFO - Processing file 132/142\n"
     ]
    },
    {
     "data": {
      "application/vnd.jupyter.widget-view+json": {
       "model_id": "1d3b545f71af4e3b8ac4ae9b40c735e4",
       "version_major": 2,
       "version_minor": 0
      },
      "text/plain": [
       "Creating embeddings:   0%|          | 0/32 [00:00<?, ?it/s]"
      ]
     },
     "metadata": {},
     "output_type": "display_data"
    },
    {
     "name": "stderr",
     "output_type": "stream",
     "text": [
      "2024-11-16 17:43:58,239 - INFO - Processing file 133/142\n"
     ]
    },
    {
     "data": {
      "application/vnd.jupyter.widget-view+json": {
       "model_id": "fa4bc70de0bf4ff3b6fa8e08d1930396",
       "version_major": 2,
       "version_minor": 0
      },
      "text/plain": [
       "Creating embeddings:   0%|          | 0/32 [00:00<?, ?it/s]"
      ]
     },
     "metadata": {},
     "output_type": "display_data"
    },
    {
     "name": "stderr",
     "output_type": "stream",
     "text": [
      "2024-11-16 17:44:11,091 - INFO - Processing file 134/142\n"
     ]
    },
    {
     "data": {
      "application/vnd.jupyter.widget-view+json": {
       "model_id": "e5be7594068d4e3087e797737b5c8319",
       "version_major": 2,
       "version_minor": 0
      },
      "text/plain": [
       "Creating embeddings:   0%|          | 0/32 [00:00<?, ?it/s]"
      ]
     },
     "metadata": {},
     "output_type": "display_data"
    },
    {
     "name": "stderr",
     "output_type": "stream",
     "text": [
      "2024-11-16 17:44:23,883 - INFO - Processing file 135/142\n"
     ]
    },
    {
     "data": {
      "application/vnd.jupyter.widget-view+json": {
       "model_id": "7d8cf3d08c1d452b94dbea2026674091",
       "version_major": 2,
       "version_minor": 0
      },
      "text/plain": [
       "Creating embeddings:   0%|          | 0/32 [00:00<?, ?it/s]"
      ]
     },
     "metadata": {},
     "output_type": "display_data"
    },
    {
     "name": "stderr",
     "output_type": "stream",
     "text": [
      "2024-11-16 17:44:36,686 - INFO - Processing file 136/142\n"
     ]
    },
    {
     "data": {
      "application/vnd.jupyter.widget-view+json": {
       "model_id": "82ece9fdaf8e4bc89e7f98494cad63b7",
       "version_major": 2,
       "version_minor": 0
      },
      "text/plain": [
       "Creating embeddings:   0%|          | 0/32 [00:00<?, ?it/s]"
      ]
     },
     "metadata": {},
     "output_type": "display_data"
    },
    {
     "name": "stderr",
     "output_type": "stream",
     "text": [
      "2024-11-16 17:44:49,497 - INFO - Processing file 137/142\n"
     ]
    },
    {
     "data": {
      "application/vnd.jupyter.widget-view+json": {
       "model_id": "9a729affe87d4e099983a09f8ab91418",
       "version_major": 2,
       "version_minor": 0
      },
      "text/plain": [
       "Creating embeddings:   0%|          | 0/32 [00:00<?, ?it/s]"
      ]
     },
     "metadata": {},
     "output_type": "display_data"
    },
    {
     "name": "stderr",
     "output_type": "stream",
     "text": [
      "2024-11-16 17:45:02,372 - INFO - Processing file 138/142\n"
     ]
    },
    {
     "data": {
      "application/vnd.jupyter.widget-view+json": {
       "model_id": "b73f2ab9792b47cfbdd92ae0b6169eb6",
       "version_major": 2,
       "version_minor": 0
      },
      "text/plain": [
       "Creating embeddings:   0%|          | 0/32 [00:00<?, ?it/s]"
      ]
     },
     "metadata": {},
     "output_type": "display_data"
    },
    {
     "name": "stderr",
     "output_type": "stream",
     "text": [
      "2024-11-16 17:45:15,170 - INFO - Processing file 139/142\n"
     ]
    },
    {
     "data": {
      "application/vnd.jupyter.widget-view+json": {
       "model_id": "a237358bbf574ff5bc28c378d255c977",
       "version_major": 2,
       "version_minor": 0
      },
      "text/plain": [
       "Creating embeddings:   0%|          | 0/32 [00:00<?, ?it/s]"
      ]
     },
     "metadata": {},
     "output_type": "display_data"
    },
    {
     "name": "stderr",
     "output_type": "stream",
     "text": [
      "2024-11-16 17:45:27,927 - INFO - Processing file 140/142\n"
     ]
    },
    {
     "data": {
      "application/vnd.jupyter.widget-view+json": {
       "model_id": "b30b79f187fe47598a2494d2fe1c08c9",
       "version_major": 2,
       "version_minor": 0
      },
      "text/plain": [
       "Creating embeddings:   0%|          | 0/32 [00:00<?, ?it/s]"
      ]
     },
     "metadata": {},
     "output_type": "display_data"
    },
    {
     "name": "stderr",
     "output_type": "stream",
     "text": [
      "2024-11-16 17:45:40,728 - INFO - Processing file 141/142\n"
     ]
    },
    {
     "data": {
      "application/vnd.jupyter.widget-view+json": {
       "model_id": "153f4bdb00b44ca886dca9d6317c1a34",
       "version_major": 2,
       "version_minor": 0
      },
      "text/plain": [
       "Creating embeddings:   0%|          | 0/32 [00:00<?, ?it/s]"
      ]
     },
     "metadata": {},
     "output_type": "display_data"
    },
    {
     "name": "stderr",
     "output_type": "stream",
     "text": [
      "2024-11-16 17:45:53,668 - INFO - Processing file 142/142\n"
     ]
    },
    {
     "data": {
      "application/vnd.jupyter.widget-view+json": {
       "model_id": "768761445551405e87c60794f09dbab1",
       "version_major": 2,
       "version_minor": 0
      },
      "text/plain": [
       "Creating embeddings:   0%|          | 0/32 [00:00<?, ?it/s]"
      ]
     },
     "metadata": {},
     "output_type": "display_data"
    }
   ],
   "source": [
    "# Initialize the processor\n",
    "processor = ClinicalEmbeddingProcessor(\n",
    "    processed_path='../data/processed',\n",
    "    model_name='emilyalsentzer/Bio_ClinicalBERT'\n",
    ")\n",
    "\n",
    "processor.create_split(validation_size=0.003)\n",
    "\n",
    "# embeddings\n",
    "processor.create_embeddings(batch_size=32)\n",
    "\n",
    "new_case = {\n",
    "    'age_group': '31-50',\n",
    "    'gender': 'F',\n",
    "    'diagnoses': ['Depression'],\n",
    "    'medications': 'sertraline 50mg oral',\n",
    "    'sections': {\n",
    "        'history': 'history of depression, poor response to SSRIs',\n",
    "        'plan': 'consider medication adjustment'\n",
    "    }\n",
    "}\n",
    "case_text = processor._prepare_text_for_embedding(pd.Series(new_case))\n",
    "case_embedding = processor.get_case_embedding(case_text)"
   ]
  },
  {
   "cell_type": "code",
   "execution_count": 2,
   "id": "6d8ff4e6-0adc-418f-ae31-e0eff1887d14",
   "metadata": {},
   "outputs": [],
   "source": [
    "from Retrival import ClinicalRetrievalSystem"
   ]
  },
  {
   "cell_type": "code",
   "execution_count": 3,
   "id": "a8c5639f-63e6-469d-88a2-17812a245b4e",
   "metadata": {},
   "outputs": [
    {
     "name": "stderr",
     "output_type": "stream",
     "text": [
      "2024-11-27 17:42:44,570 - INFO - Using CPU for FAISS\n",
      "2024-11-27 17:42:44,571 - INFO - Loading embeddings and metadata...\n",
      "2024-11-27 17:42:44,573 - INFO - Processing file 1/142\n",
      "/ocean/projects/bio200049p/yzheng9/Github/DrugGPT/scripts/../src/Retrival.py:73: FutureWarning: You are using `torch.load` with `weights_only=False` (the current default value), which uses the default pickle module implicitly. It is possible to construct malicious pickle data which will execute arbitrary code during unpickling (See https://github.com/pytorch/pytorch/blob/main/SECURITY.md#untrusted-models for more details). In a future release, the default value for `weights_only` will be flipped to `True`. This limits the functions that could be executed during unpickling. Arbitrary objects will no longer be allowed to be loaded via this mode unless they are explicitly allowlisted by the user via `torch.serialization.add_safe_globals`. We recommend you start setting `weights_only=True` for any use case where you don't have full control of the loaded file. Please open an issue on GitHub for any issues related to this experimental feature.\n",
      "  data = torch.load(file, map_location='cpu')\n",
      "2024-11-27 17:42:44,700 - INFO - Processing file 2/142\n",
      "2024-11-27 17:42:44,805 - INFO - Processing file 3/142\n",
      "2024-11-27 17:42:44,945 - INFO - Processing file 4/142\n",
      "2024-11-27 17:42:45,082 - INFO - Processing file 5/142\n",
      "2024-11-27 17:42:45,190 - INFO - Processing file 6/142\n",
      "2024-11-27 17:42:45,295 - INFO - Processing file 7/142\n",
      "2024-11-27 17:42:45,431 - INFO - Processing file 8/142\n",
      "2024-11-27 17:42:45,722 - INFO - Processing file 9/142\n",
      "2024-11-27 17:42:45,841 - INFO - Processing file 10/142\n",
      "2024-11-27 17:42:45,980 - INFO - Processing file 11/142\n",
      "2024-11-27 17:42:46,081 - INFO - Processing file 12/142\n",
      "2024-11-27 17:42:46,183 - INFO - Processing file 13/142\n",
      "2024-11-27 17:42:46,284 - INFO - Processing file 14/142\n",
      "2024-11-27 17:42:46,384 - INFO - Processing file 15/142\n",
      "2024-11-27 17:42:46,485 - INFO - Processing file 16/142\n",
      "2024-11-27 17:42:46,587 - INFO - Processing file 17/142\n",
      "2024-11-27 17:42:46,689 - INFO - Processing file 18/142\n",
      "2024-11-27 17:42:46,791 - INFO - Processing file 19/142\n",
      "2024-11-27 17:42:46,898 - INFO - Processing file 20/142\n",
      "2024-11-27 17:42:47,000 - INFO - Processing file 21/142\n",
      "2024-11-27 17:42:47,100 - INFO - Processing file 22/142\n",
      "2024-11-27 17:42:47,202 - INFO - Processing file 23/142\n",
      "2024-11-27 17:42:47,306 - INFO - Processing file 24/142\n",
      "2024-11-27 17:42:47,409 - INFO - Processing file 25/142\n",
      "2024-11-27 17:42:47,510 - INFO - Processing file 26/142\n",
      "2024-11-27 17:42:47,611 - INFO - Processing file 27/142\n",
      "2024-11-27 17:42:47,712 - INFO - Processing file 28/142\n",
      "2024-11-27 17:42:47,814 - INFO - Processing file 29/142\n",
      "2024-11-27 17:42:47,916 - INFO - Processing file 30/142\n",
      "2024-11-27 17:42:48,019 - INFO - Processing file 31/142\n",
      "2024-11-27 17:42:48,121 - INFO - Processing file 32/142\n",
      "2024-11-27 17:42:48,223 - INFO - Processing file 33/142\n",
      "2024-11-27 17:42:48,325 - INFO - Processing file 34/142\n",
      "2024-11-27 17:42:48,426 - INFO - Processing file 35/142\n",
      "2024-11-27 17:42:48,527 - INFO - Processing file 36/142\n",
      "2024-11-27 17:42:48,629 - INFO - Processing file 37/142\n",
      "2024-11-27 17:42:48,730 - INFO - Processing file 38/142\n",
      "2024-11-27 17:42:48,832 - INFO - Processing file 39/142\n",
      "2024-11-27 17:42:48,937 - INFO - Processing file 40/142\n",
      "2024-11-27 17:42:49,039 - INFO - Processing file 41/142\n",
      "2024-11-27 17:42:49,141 - INFO - Processing file 42/142\n",
      "2024-11-27 17:42:49,243 - INFO - Processing file 43/142\n",
      "2024-11-27 17:42:49,345 - INFO - Processing file 44/142\n",
      "2024-11-27 17:42:49,447 - INFO - Processing file 45/142\n",
      "2024-11-27 17:42:49,550 - INFO - Processing file 46/142\n",
      "2024-11-27 17:42:49,651 - INFO - Processing file 47/142\n",
      "2024-11-27 17:42:49,753 - INFO - Processing file 48/142\n",
      "2024-11-27 17:42:49,857 - INFO - Processing file 49/142\n",
      "2024-11-27 17:42:49,959 - INFO - Processing file 50/142\n",
      "2024-11-27 17:42:50,062 - INFO - Processing file 51/142\n",
      "2024-11-27 17:42:50,164 - INFO - Processing file 52/142\n",
      "2024-11-27 17:42:50,265 - INFO - Processing file 53/142\n",
      "2024-11-27 17:42:50,368 - INFO - Processing file 54/142\n",
      "2024-11-27 17:42:50,471 - INFO - Processing file 55/142\n",
      "2024-11-27 17:42:50,574 - INFO - Processing file 56/142\n",
      "2024-11-27 17:42:50,677 - INFO - Processing file 57/142\n",
      "2024-11-27 17:42:50,779 - INFO - Processing file 58/142\n",
      "2024-11-27 17:42:50,881 - INFO - Processing file 59/142\n",
      "2024-11-27 17:42:51,003 - INFO - Processing file 60/142\n",
      "2024-11-27 17:42:51,106 - INFO - Processing file 61/142\n",
      "2024-11-27 17:42:51,208 - INFO - Processing file 62/142\n",
      "2024-11-27 17:42:51,310 - INFO - Processing file 63/142\n",
      "2024-11-27 17:42:51,412 - INFO - Processing file 64/142\n",
      "2024-11-27 17:42:51,515 - INFO - Processing file 65/142\n",
      "2024-11-27 17:42:51,618 - INFO - Processing file 66/142\n",
      "2024-11-27 17:42:51,720 - INFO - Processing file 67/142\n",
      "2024-11-27 17:42:51,822 - INFO - Processing file 68/142\n",
      "2024-11-27 17:42:51,926 - INFO - Processing file 69/142\n",
      "2024-11-27 17:42:52,029 - INFO - Processing file 70/142\n",
      "2024-11-27 17:42:52,130 - INFO - Processing file 71/142\n",
      "2024-11-27 17:42:52,233 - INFO - Processing file 72/142\n",
      "2024-11-27 17:42:52,340 - INFO - Processing file 73/142\n",
      "2024-11-27 17:42:52,442 - INFO - Processing file 74/142\n",
      "2024-11-27 17:42:52,545 - INFO - Processing file 75/142\n",
      "2024-11-27 17:42:52,649 - INFO - Processing file 76/142\n",
      "2024-11-27 17:42:52,751 - INFO - Processing file 77/142\n",
      "2024-11-27 17:42:52,853 - INFO - Processing file 78/142\n",
      "2024-11-27 17:42:52,957 - INFO - Processing file 79/142\n",
      "2024-11-27 17:42:53,063 - INFO - Processing file 80/142\n",
      "2024-11-27 17:42:53,166 - INFO - Processing file 81/142\n",
      "2024-11-27 17:42:53,268 - INFO - Processing file 82/142\n",
      "2024-11-27 17:42:53,372 - INFO - Processing file 83/142\n",
      "2024-11-27 17:42:53,476 - INFO - Processing file 84/142\n",
      "2024-11-27 17:42:53,583 - INFO - Processing file 85/142\n",
      "2024-11-27 17:42:53,686 - INFO - Processing file 86/142\n",
      "2024-11-27 17:42:53,782 - INFO - Processing file 87/142\n",
      "2024-11-27 17:42:53,886 - INFO - Processing file 88/142\n",
      "2024-11-27 17:42:53,990 - INFO - Processing file 89/142\n",
      "2024-11-27 17:42:54,093 - INFO - Processing file 90/142\n",
      "2024-11-27 17:42:54,197 - INFO - Processing file 91/142\n",
      "2024-11-27 17:42:54,300 - INFO - Processing file 92/142\n",
      "2024-11-27 17:42:54,404 - INFO - Processing file 93/142\n",
      "2024-11-27 17:42:54,508 - INFO - Processing file 94/142\n",
      "2024-11-27 17:42:54,610 - INFO - Processing file 95/142\n",
      "2024-11-27 17:42:54,715 - INFO - Processing file 96/142\n",
      "2024-11-27 17:42:54,820 - INFO - Processing file 97/142\n",
      "2024-11-27 17:42:54,924 - INFO - Processing file 98/142\n",
      "2024-11-27 17:42:55,028 - INFO - Processing file 99/142\n",
      "2024-11-27 17:42:55,134 - INFO - Processing file 100/142\n",
      "2024-11-27 17:42:55,238 - INFO - Processing file 101/142\n",
      "2024-11-27 17:42:55,342 - INFO - Processing file 102/142\n",
      "2024-11-27 17:42:55,447 - INFO - Processing file 103/142\n",
      "2024-11-27 17:42:55,552 - INFO - Processing file 104/142\n",
      "2024-11-27 17:42:55,655 - INFO - Processing file 105/142\n",
      "2024-11-27 17:42:55,758 - INFO - Processing file 106/142\n",
      "2024-11-27 17:42:55,862 - INFO - Processing file 107/142\n",
      "2024-11-27 17:42:55,966 - INFO - Processing file 108/142\n",
      "2024-11-27 17:42:56,093 - INFO - Processing file 109/142\n",
      "2024-11-27 17:42:56,198 - INFO - Processing file 110/142\n",
      "2024-11-27 17:42:56,301 - INFO - Processing file 111/142\n",
      "2024-11-27 17:42:56,406 - INFO - Processing file 112/142\n",
      "2024-11-27 17:42:56,510 - INFO - Processing file 113/142\n",
      "2024-11-27 17:42:56,615 - INFO - Processing file 114/142\n",
      "2024-11-27 17:42:56,719 - INFO - Processing file 115/142\n",
      "2024-11-27 17:42:56,823 - INFO - Processing file 116/142\n",
      "2024-11-27 17:42:56,927 - INFO - Processing file 117/142\n",
      "2024-11-27 17:42:57,032 - INFO - Processing file 118/142\n",
      "2024-11-27 17:42:57,138 - INFO - Processing file 119/142\n",
      "2024-11-27 17:42:57,244 - INFO - Processing file 120/142\n",
      "2024-11-27 17:42:57,350 - INFO - Processing file 121/142\n",
      "2024-11-27 17:42:57,456 - INFO - Processing file 122/142\n",
      "2024-11-27 17:42:57,561 - INFO - Processing file 123/142\n",
      "2024-11-27 17:42:57,666 - INFO - Processing file 124/142\n",
      "2024-11-27 17:42:57,771 - INFO - Processing file 125/142\n",
      "2024-11-27 17:42:57,876 - INFO - Processing file 126/142\n",
      "2024-11-27 17:42:57,982 - INFO - Processing file 127/142\n",
      "2024-11-27 17:42:58,088 - INFO - Processing file 128/142\n",
      "2024-11-27 17:42:58,194 - INFO - Processing file 129/142\n",
      "2024-11-27 17:42:58,300 - INFO - Processing file 130/142\n",
      "2024-11-27 17:42:58,404 - INFO - Processing file 131/142\n",
      "2024-11-27 17:42:58,509 - INFO - Processing file 132/142\n",
      "2024-11-27 17:42:58,615 - INFO - Processing file 133/142\n",
      "2024-11-27 17:42:58,720 - INFO - Processing file 134/142\n",
      "2024-11-27 17:42:58,826 - INFO - Processing file 135/142\n",
      "2024-11-27 17:42:58,931 - INFO - Processing file 136/142\n",
      "2024-11-27 17:42:59,036 - INFO - Processing file 137/142\n",
      "2024-11-27 17:42:59,145 - INFO - Processing file 138/142\n",
      "2024-11-27 17:42:59,251 - INFO - Processing file 139/142\n",
      "2024-11-27 17:42:59,358 - INFO - Processing file 140/142\n",
      "2024-11-27 17:42:59,463 - INFO - Processing file 141/142\n",
      "2024-11-27 17:42:59,574 - INFO - Processing file 142/142\n",
      "2024-11-27 17:42:59,809 - INFO - Combined embeddings shape: (141293, 768)\n",
      "2024-11-27 17:42:59,906 - INFO - Building Flat index...\n",
      "2024-11-27 17:42:59,907 - INFO - Adding vectors to index...\n",
      "2024-11-27 17:42:59,973 - INFO - Successfully built index with 141293 vectors\n"
     ]
    },
    {
     "name": "stdout",
     "output_type": "stream",
     "text": [
      "\n",
      "System Info:\n",
      "Embeddings type: <class 'numpy.ndarray'>\n",
      "Embeddings dtype: float32\n",
      "Embeddings shape: (141293, 768)\n",
      "Is C-contiguous: True\n"
     ]
    },
    {
     "name": "stderr",
     "output_type": "stream",
     "text": [
      "2024-11-27 17:43:05,527 - INFO - Saved system to ../data/processed/retrieval_system\n"
     ]
    }
   ],
   "source": [
    "\n",
    "try:\n",
    "    retriever = ClinicalRetrievalSystem(\n",
    "        processed_path='../data/processed',\n",
    "        index_type='Flat',\n",
    "        use_gpu=True\n",
    "    )\n",
    "    \n",
    "    print(\"\\nSystem Info:\")\n",
    "    print(f\"Embeddings type: {type(retriever.embeddings)}\")\n",
    "    print(f\"Embeddings dtype: {retriever.embeddings.dtype}\")\n",
    "    print(f\"Embeddings shape: {retriever.embeddings.shape}\")\n",
    "    print(f\"Is C-contiguous: {retriever.embeddings.flags.c_contiguous}\")\n",
    "    \n",
    "    retriever.save_index()\n",
    "\n",
    "except Exception as e:\n",
    "    print(f\"\\nError occurred: {str(e)}\")\n",
    "    import traceback\n",
    "    traceback.print_exc()"
   ]
  },
  {
   "cell_type": "code",
   "execution_count": 4,
   "id": "e2164114-4874-4966-95bf-ac29262693a9",
   "metadata": {},
   "outputs": [
    {
     "name": "stdout",
     "output_type": "stream",
     "text": [
      "Version Information:\n",
      "Python: 3.12.7 | packaged by conda-forge | (main, Oct  4 2024, 16:05:46) [GCC 13.3.0]\n",
      "NumPy: 2.1.3\n",
      "FAISS: 1.9.0\n",
      "PyTorch: 2.5.1+cu124\n",
      "CUDA available: True\n",
      "GPU available: 0\n",
      "\n",
      "FAISS test index is_trained: True\n",
      "FAISS test index ntotal: 100\n",
      "FAISS test search results shape: (1, 4)\n",
      "\n",
      "FAISS basic functionality test passed!\n"
     ]
    }
   ],
   "source": [
    "import sys\n",
    "import numpy as np\n",
    "import faiss\n",
    "import torch\n",
    "\n",
    "print(\"Version Information:\")\n",
    "print(f\"Python: {sys.version}\")\n",
    "print(f\"NumPy: {np.__version__}\")\n",
    "print(f\"FAISS: {faiss.__version__}\")\n",
    "print(f\"PyTorch: {torch.__version__}\")\n",
    "print(f\"CUDA available: {torch.cuda.is_available()}\")\n",
    "print(f\"GPU available: {faiss.get_num_gpus()}\")\n",
    "\n",
    "# test FAISS\n",
    "try:\n",
    "    d = 64                           # dimension\n",
    "    nb = 100                         # database size\n",
    "    xb = np.random.random((nb, d)).astype('float32')\n",
    "    \n",
    "    # make index\n",
    "    index = faiss.IndexFlatL2(d)     # build the index in L2 space\n",
    "    print(f\"\\nFAISS test index is_trained: {index.is_trained}\")\n",
    "    \n",
    "    # add vectors to index\n",
    "    index.add(xb)                    \n",
    "    print(f\"FAISS test index ntotal: {index.ntotal}\")\n",
    "    \n",
    "    # search for nearest neighbors\n",
    "    k = 4                            # we want to see 4 nearest neighbors\n",
    "    nq = 1                           # only 1 query\n",
    "    xq = np.random.random((nq, d)).astype('float32')\n",
    "    \n",
    "    D, I = index.search(xq, k)       # actual search\n",
    "    print(f\"FAISS test search results shape: {D.shape}\")\n",
    "    \n",
    "    print(\"\\nFAISS basic functionality test passed!\")\n",
    "    \n",
    "except Exception as e:\n",
    "    print(f\"\\nFAISS test failed: {str(e)}\")"
   ]
  },
  {
   "cell_type": "code",
   "execution_count": 4,
   "id": "5957cc08-6605-40a2-ab04-3ae239c35d94",
   "metadata": {},
   "outputs": [],
   "source": [
    "from EnhancedRetrival import EnhancedClinicalRetrieval"
   ]
  },
  {
   "cell_type": "code",
   "execution_count": 5,
   "id": "9f697be3-dd5a-4d14-b418-d24a78d5414e",
   "metadata": {},
   "outputs": [],
   "source": [
    "# create icd9 mapping csv\n",
    "icd9_df = pd.read_csv('../data/MIMIC_III_D_ICD_DIAGNOSES.csv')\n",
    "icd9_mapping = icd9_df[['ICD9_CODE', 'SHORT_TITLE', 'LONG_TITLE']]\n",
    "icd9_mapping.to_csv('../data/icd9_map.csv', index=False)"
   ]
  },
  {
   "cell_type": "code",
   "execution_count": 5,
   "id": "df97ee9e-5c8f-4c68-9ac4-57629cef43fa",
   "metadata": {},
   "outputs": [
    {
     "name": "stdout",
     "output_type": "stream",
     "text": [
      "\n",
      "Enhanced Search Results:\n",
      "\n",
      "Case 1:\n",
      "Similarity: 96.415\n",
      "Demographics: 51-70 F\n",
      "Diagnoses:\n",
      "  - 20500: Ac myl leuk wo achv rmsn\n",
      "  - 51882: Other pulmonary insuff\n",
      "  - 2841\n",
      "Medications: Ipratropium Bromide Neb 1 NEB via IH...\n",
      "\n",
      "Case 2:\n",
      "Similarity: 96.369\n",
      "Demographics: 31-50 F\n",
      "Diagnoses:\n",
      "  - 51884: Acute & chronc resp fail\n",
      "  - 0389: Septicemia NOS\n",
      "  - 99591: Sepsis\n",
      "Medications: Potassium Chloride 40 mEq via IV...\n",
      "\n",
      "Case 3:\n",
      "Similarity: 96.343\n",
      "Demographics: 71-89 M\n",
      "Diagnoses:\n",
      "  - 5849: Acute kidney failure NOS\n",
      "  - 42823: Ac on chr syst hrt fail\n",
      "  - 20300: Mult mye w/o achv rmson\n",
      "Medications: Furosemide 40 mg via IV...\n",
      "\n",
      "Case 4:\n",
      "Similarity: 96.223\n",
      "Demographics: 71-89 M\n",
      "Diagnoses:\n",
      "  - 5789: Gastrointest hemorr NOS\n",
      "  - 51881: Acute respiratry failure\n",
      "  - 42823: Ac on chr syst hrt fail\n",
      "Medications: Hydrocortisone Na Succ 25 mg via IV...\n",
      "\n",
      "Case 5:\n",
      "Similarity: 96.191\n",
      "Demographics: 71-89 M\n",
      "Diagnoses:\n",
      "  - 5770: Acute pancreatitis\n",
      "  - 41071: Subendo infarct, initial\n",
      "  - 5761: Cholangitis\n",
      "Medications: Phenylephrine...\n",
      "\n",
      "Analysis Summary:\n",
      "Similar Cases Analysis Summary\n",
      "==============================\n",
      "\n",
      "Found 5 similar cases\n",
      "Average similarity: 96.308\n",
      "\n",
      "Common Demographics:\n",
      "--------------------\n",
      "- 71-89 M: 3 cases\n",
      "- 51-70 F: 1 cases\n",
      "- 31-50 F: 1 cases\n",
      "\n",
      "Top Diagnoses:\n",
      "--------------------\n",
      "- 5849: Acute kidney failure NOS: 4 cases\n",
      "- 4280: CHF NOS: 3 cases\n",
      "- 2761: Hyposmolality: 2 cases\n",
      "- 0389: Septicemia NOS: 2 cases\n",
      "- 42823: Ac on chr syst hrt fail: 2 cases\n",
      "\n",
      "Commonly Prescribed Medications:\n",
      "--------------------\n",
      "- Ipratropium Bromide Neb 1 NEB via IH: 1 cases\n",
      "- Potassium Chloride 40 mEq via IV: 1 cases\n",
      "- Furosemide 40 mg via IV: 1 cases\n",
      "- Hydrocortisone Na Succ 25 mg via IV: 1 cases\n",
      "- Phenylephrine: 1 cases\n"
     ]
    }
   ],
   "source": [
    "# Initialize enhanced retriever\n",
    "enhanced_retriever = EnhancedClinicalRetrieval(\n",
    "    base_retriever=retriever,\n",
    "    icd9_map_path='../data/icd9_map.csv'  \n",
    ")\n",
    "\n",
    "# Correct test code\n",
    "try:\n",
    "    # Use test query\n",
    "    test_query = retriever.embeddings[0]\n",
    "    \n",
    "    # Find similar cases\n",
    "    similar_cases = enhanced_retriever.find_similar_cases(\n",
    "        test_query,\n",
    "        k=5,\n",
    "        remove_duplicates=True,\n",
    "        min_similarity=0.5\n",
    "    )\n",
    "    \n",
    "    # Generate summary (corrected call)\n",
    "    summary = enhanced_retriever.generate_summary(similar_cases)\n",
    "    \n",
    "    # Print results\n",
    "    print(\"\\nEnhanced Search Results:\")\n",
    "    for i, case in enumerate(similar_cases, 1):\n",
    "        print(f\"\\nCase {i}:\")\n",
    "        print(f\"Similarity: {case['similarity']:.3f}\")\n",
    "        print(f\"Demographics: {case['demographics']}\")\n",
    "        print(f\"Diagnoses:\")\n",
    "        for diag in case['diagnoses'][:3]:\n",
    "            print(f\"  - {diag}\")\n",
    "        print(f\"Medications: {case['medications'][:200]}...\")\n",
    "    \n",
    "    print(\"\\nAnalysis Summary:\")\n",
    "    print(summary)\n",
    "\n",
    "except Exception as e:\n",
    "    print(f\"Error: {str(e)}\")\n",
    "    import traceback\n",
    "    traceback.print_exc()"
   ]
  },
  {
   "cell_type": "code",
   "execution_count": 6,
   "id": "777a01ef-3e02-4f4e-a458-7e1cb6dd8bef",
   "metadata": {
    "scrolled": true
   },
   "outputs": [
    {
     "name": "stdout",
     "output_type": "stream",
     "text": [
      "\n",
      "Similar Cases Found:\n",
      "\n",
      "Case 1:\n",
      "Similarity: 96.415\n",
      "Demographics: 51-70 F\n",
      "Primary Diagnoses:\n",
      "  - 20500: Ac myl leuk wo achv rmsn\n",
      "  - 51882: Other pulmonary insuff\n",
      "  - 2841\n",
      "Key Medications: Ipratropium Bromide Neb 1 NEB via IH...\n",
      "\n",
      "Case 2:\n",
      "Similarity: 96.369\n",
      "Demographics: 31-50 F\n",
      "Primary Diagnoses:\n",
      "  - 51884: Acute & chronc resp fail\n",
      "  - 0389: Septicemia NOS\n",
      "  - 99591: Sepsis\n",
      "Key Medications: Potassium Chloride 40 mEq via IV...\n",
      "\n",
      "Case 3:\n",
      "Similarity: 96.343\n",
      "Demographics: 71-89 M\n",
      "Primary Diagnoses:\n",
      "  - 5849: Acute kidney failure NOS\n",
      "  - 42823: Ac on chr syst hrt fail\n",
      "  - 20300: Mult mye w/o achv rmson\n",
      "Key Medications: Furosemide 40 mg via IV...\n",
      "\n",
      "Case 4:\n",
      "Similarity: 96.223\n",
      "Demographics: 71-89 M\n",
      "Primary Diagnoses:\n",
      "  - 5789: Gastrointest hemorr NOS\n",
      "  - 51881: Acute respiratry failure\n",
      "  - 42823: Ac on chr syst hrt fail\n",
      "Key Medications: Hydrocortisone Na Succ 25 mg via IV...\n",
      "\n",
      "Case 5:\n",
      "Similarity: 96.191\n",
      "Demographics: 71-89 M\n",
      "Primary Diagnoses:\n",
      "  - 5770: Acute pancreatitis\n",
      "  - 41071: Subendo infarct, initial\n",
      "  - 5761: Cholangitis\n",
      "Key Medications: Phenylephrine...\n",
      "\n",
      "Clinical Analysis:\n",
      "Similar Cases Analysis Summary\n",
      "==============================\n",
      "\n",
      "Found 5 similar cases\n",
      "Average similarity: 96.308\n",
      "\n",
      "Common Demographics:\n",
      "--------------------\n",
      "- 71-89 M: 3 cases\n",
      "- 51-70 F: 1 cases\n",
      "- 31-50 F: 1 cases\n",
      "\n",
      "Top Diagnoses:\n",
      "--------------------\n",
      "- 5849: Acute kidney failure NOS: 4 cases\n",
      "- 4280: CHF NOS: 3 cases\n",
      "- 2761: Hyposmolality: 2 cases\n",
      "- 0389: Septicemia NOS: 2 cases\n",
      "- 42823: Ac on chr syst hrt fail: 2 cases\n",
      "\n",
      "Commonly Prescribed Medications:\n",
      "--------------------\n",
      "- Ipratropium Bromide Neb 1 NEB via IH: 1 cases\n",
      "- Potassium Chloride 40 mEq via IV: 1 cases\n",
      "- Furosemide 40 mg via IV: 1 cases\n",
      "- Hydrocortisone Na Succ 25 mg via IV: 1 cases\n",
      "- Phenylephrine: 1 cases\n"
     ]
    }
   ],
   "source": [
    "try:\n",
    "    test_query = retriever.embeddings[0]\n",
    "    \n",
    "    similar_cases = enhanced_retriever.find_similar_cases(\n",
    "        test_query,\n",
    "        k=5,\n",
    "        remove_duplicates=True\n",
    "    )\n",
    "    \n",
    "    print(\"\\nSimilar Cases Found:\")\n",
    "    for i, case in enumerate(similar_cases, 1):\n",
    "        print(f\"\\nCase {i}:\")\n",
    "        print(f\"Similarity: {case['similarity']:.3f}\")\n",
    "        print(f\"Demographics: {case['demographics']}\")\n",
    "        print(\"Primary Diagnoses:\")\n",
    "        for diag in case['diagnoses'][:3]:\n",
    "            print(f\"  - {diag}\")\n",
    "        print(f\"Key Medications: {case['medications'][:200]}...\")\n",
    "    \n",
    "    print(\"\\nClinical Analysis:\")\n",
    "    print(enhanced_retriever.generate_summary(similar_cases))\n",
    "\n",
    "except Exception as e:\n",
    "    print(f\"Error: {str(e)}\")"
   ]
  },
  {
   "cell_type": "code",
   "execution_count": null,
   "id": "d3d3be17-2b6c-46f7-bc49-6fe06010e8e6",
   "metadata": {},
   "outputs": [],
   "source": []
  }
 ],
 "metadata": {
  "kernelspec": {
   "display_name": "Python 3 (ipykernel)",
   "language": "python",
   "name": "python3"
  },
  "language_info": {
   "codemirror_mode": {
    "name": "ipython",
    "version": 3
   },
   "file_extension": ".py",
   "mimetype": "text/x-python",
   "name": "python",
   "nbconvert_exporter": "python",
   "pygments_lexer": "ipython3",
   "version": "3.12.7"
  }
 },
 "nbformat": 4,
 "nbformat_minor": 5
}
